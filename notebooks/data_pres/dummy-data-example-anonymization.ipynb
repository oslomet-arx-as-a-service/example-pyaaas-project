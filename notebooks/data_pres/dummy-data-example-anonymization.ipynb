{
 "cells": [
  {
   "cell_type": "markdown",
   "metadata": {},
   "source": [
    "# Example walkthrough of analyzation and anonymization of a dataset containing sensitive attributes"
   ]
  },
  {
   "cell_type": "markdown",
   "metadata": {},
   "source": [
    "### Import pyarxaas modules and classes"
   ]
  },
  {
   "cell_type": "code",
   "execution_count": 1,
   "metadata": {},
   "outputs": [],
   "source": [
    "import pandas as pd\n",
    "from pyarxaas import ARXaaS, Dataset, AttributeType\n",
    "from pyarxaas.privacy_models import KAnonymity, LDiversityDistinct"
   ]
  },
  {
   "cell_type": "markdown",
   "metadata": {},
   "source": [
    "### Import sensitive dataset\n",
    "In this example a pandas DataFrame is created from a csv file, but any data source that can be converted to a DataFrame or Python dict would suffice."
   ]
  },
  {
   "cell_type": "code",
   "execution_count": 2,
   "metadata": {},
   "outputs": [],
   "source": [
    "df = pd.read_csv(\"../../data/dummy-dataset-260219.csv\", sep=\";\")"
   ]
  },
  {
   "cell_type": "code",
   "execution_count": 3,
   "metadata": {},
   "outputs": [
    {
     "data": {
      "text/html": [
       "<div>\n",
       "<style scoped>\n",
       "    .dataframe tbody tr th:only-of-type {\n",
       "        vertical-align: middle;\n",
       "    }\n",
       "\n",
       "    .dataframe tbody tr th {\n",
       "        vertical-align: top;\n",
       "    }\n",
       "\n",
       "    .dataframe thead th {\n",
       "        text-align: right;\n",
       "    }\n",
       "</style>\n",
       "<table border=\"1\" class=\"dataframe\">\n",
       "  <thead>\n",
       "    <tr style=\"text-align: right;\">\n",
       "      <th></th>\n",
       "      <th>Dummy_tag</th>\n",
       "      <th>ID</th>\n",
       "      <th>Navn</th>\n",
       "      <th>Alder</th>\n",
       "      <th>Sivilstatus</th>\n",
       "      <th>Barn</th>\n",
       "      <th>Innsatsgruppe</th>\n",
       "      <th>Innvandrerbakgrunn</th>\n",
       "      <th>Ledighetsstatus</th>\n",
       "      <th>Utdanning</th>\n",
       "      <th>Ytelse</th>\n",
       "      <th>Medisinsk forhold</th>\n",
       "    </tr>\n",
       "  </thead>\n",
       "  <tbody>\n",
       "    <tr>\n",
       "      <th>0</th>\n",
       "      <td>dummy_data</td>\n",
       "      <td>PY827</td>\n",
       "      <td>Eirik</td>\n",
       "      <td>47</td>\n",
       "      <td>Ukjent</td>\n",
       "      <td>1</td>\n",
       "      <td>Situasjonsbestemt innsats</td>\n",
       "      <td>Togo</td>\n",
       "      <td>Delvis ledig</td>\n",
       "      <td>Høyere utd inntil 4 år</td>\n",
       "      <td>Tiltakspenger</td>\n",
       "      <td>Ingen</td>\n",
       "    </tr>\n",
       "    <tr>\n",
       "      <th>1</th>\n",
       "      <td>dummy_data</td>\n",
       "      <td>CX244</td>\n",
       "      <td>Ella</td>\n",
       "      <td>30</td>\n",
       "      <td>Gift</td>\n",
       "      <td>2</td>\n",
       "      <td>Varig tilpasset</td>\n",
       "      <td>Surinam</td>\n",
       "      <td>Ordinær tiltaksdeltaker</td>\n",
       "      <td>Grunnskole</td>\n",
       "      <td>Dagpenger</td>\n",
       "      <td>Ingen</td>\n",
       "    </tr>\n",
       "    <tr>\n",
       "      <th>2</th>\n",
       "      <td>dummy_data</td>\n",
       "      <td>ZE697</td>\n",
       "      <td>Solveig</td>\n",
       "      <td>37</td>\n",
       "      <td>Ukjent</td>\n",
       "      <td>1</td>\n",
       "      <td>Standard innsats</td>\n",
       "      <td>Malta</td>\n",
       "      <td>Delvis ledig</td>\n",
       "      <td>Grunnskole</td>\n",
       "      <td>Dagpenger</td>\n",
       "      <td>Ingen</td>\n",
       "    </tr>\n",
       "    <tr>\n",
       "      <th>3</th>\n",
       "      <td>dummy_data</td>\n",
       "      <td>AR215</td>\n",
       "      <td>Eirik</td>\n",
       "      <td>52</td>\n",
       "      <td>Ugift</td>\n",
       "      <td>1</td>\n",
       "      <td>Standard innsats</td>\n",
       "      <td>Norge</td>\n",
       "      <td>Andre arbeidssøkende</td>\n",
       "      <td>Høyere utd inntil 4 år</td>\n",
       "      <td>Uføretrygd</td>\n",
       "      <td>Ingen</td>\n",
       "    </tr>\n",
       "    <tr>\n",
       "      <th>4</th>\n",
       "      <td>dummy_data</td>\n",
       "      <td>CZ546</td>\n",
       "      <td>Heidi</td>\n",
       "      <td>37</td>\n",
       "      <td>Ukjent</td>\n",
       "      <td>3</td>\n",
       "      <td>Spesielt tilpasset</td>\n",
       "      <td>Surinam</td>\n",
       "      <td>Andre arbeidssøkende</td>\n",
       "      <td>Høyere utd over 4 år</td>\n",
       "      <td>Dagpenger</td>\n",
       "      <td>Ingen</td>\n",
       "    </tr>\n",
       "  </tbody>\n",
       "</table>\n",
       "</div>"
      ],
      "text/plain": [
       "    Dummy_tag     ID     Navn  Alder Sivilstatus  Barn  \\\n",
       "0  dummy_data  PY827    Eirik     47      Ukjent     1   \n",
       "1  dummy_data  CX244     Ella     30        Gift     2   \n",
       "2  dummy_data  ZE697  Solveig     37      Ukjent     1   \n",
       "3  dummy_data  AR215    Eirik     52       Ugift     1   \n",
       "4  dummy_data  CZ546    Heidi     37      Ukjent     3   \n",
       "\n",
       "               Innsatsgruppe Innvandrerbakgrunn          Ledighetsstatus  \\\n",
       "0  Situasjonsbestemt innsats               Togo             Delvis ledig   \n",
       "1            Varig tilpasset            Surinam  Ordinær tiltaksdeltaker   \n",
       "2           Standard innsats              Malta             Delvis ledig   \n",
       "3           Standard innsats              Norge     Andre arbeidssøkende   \n",
       "4         Spesielt tilpasset            Surinam     Andre arbeidssøkende   \n",
       "\n",
       "                Utdanning         Ytelse Medisinsk forhold  \n",
       "0  Høyere utd inntil 4 år  Tiltakspenger             Ingen  \n",
       "1              Grunnskole      Dagpenger             Ingen  \n",
       "2              Grunnskole      Dagpenger             Ingen  \n",
       "3  Høyere utd inntil 4 år     Uføretrygd             Ingen  \n",
       "4    Høyere utd over 4 år      Dagpenger             Ingen  "
      ]
     },
     "execution_count": 3,
     "metadata": {},
     "output_type": "execute_result"
    }
   ],
   "source": [
    "df.head()"
   ]
  },
  {
   "cell_type": "markdown",
   "metadata": {},
   "source": [
    "### Create pyaaas.Dataset object\n",
    "The Dataset class provide anonymization abstractions for a dataset."
   ]
  },
  {
   "cell_type": "code",
   "execution_count": 4,
   "metadata": {},
   "outputs": [],
   "source": [
    "dataset = Dataset.from_pandas(df)"
   ]
  },
  {
   "cell_type": "markdown",
   "metadata": {},
   "source": [
    "### Set the AttributeType for the dataset fields\n",
    "AttributeType defines the re-identification risk associated with a attribute."
   ]
  },
  {
   "cell_type": "code",
   "execution_count": 5,
   "metadata": {},
   "outputs": [],
   "source": [
    "dataset.set_attribute_type(AttributeType.IDENTIFYING,\n",
    "                        'ID',\n",
    "                        'Navn')"
   ]
  },
  {
   "cell_type": "code",
   "execution_count": 6,
   "metadata": {},
   "outputs": [],
   "source": [
    "dataset.set_attribute_type(AttributeType.SENSITIVE,\n",
    "                           'Medisinsk forhold')"
   ]
  },
  {
   "cell_type": "code",
   "execution_count": 7,
   "metadata": {},
   "outputs": [],
   "source": [
    "dataset.set_attribute_type(AttributeType.INSENSITIVE,\n",
    "                        'Dummy_tag')"
   ]
  },
  {
   "cell_type": "code",
   "execution_count": 8,
   "metadata": {},
   "outputs": [],
   "source": [
    "dataset.set_attribute_type(AttributeType.QUASIIDENTIFYING,\n",
    "                        'Innsatsgruppe',\n",
    "                        'Innvandrerbakgrunn',\n",
    "                        'Ledighetsstatus',\n",
    "                        'Ytelse',\n",
    "                        'Alder',\n",
    "                        'Sivilstatus',\n",
    "                        'Barn',\n",
    "                        'Utdanning')"
   ]
  },
  {
   "cell_type": "markdown",
   "metadata": {},
   "source": [
    "### Create service connection\n",
    "\n",
    "creates an instance of the ARXaaS class that implements methods to interact with the service."
   ]
  },
  {
   "cell_type": "code",
   "execution_count": 9,
   "metadata": {},
   "outputs": [],
   "source": [
    "arxaas = ARXaaS(\"http://localhost:8080/\") # connecting to service"
   ]
  },
  {
   "cell_type": "markdown",
   "metadata": {},
   "source": [
    "### Create Risk Profile\n",
    "Various privacy risks can be analyzed. These include re-identification risks for the prosecutor, journalist and marketer attacker models as well as risks derived from population uniqueness, which can be estimated with different statistical methods."
   ]
  },
  {
   "cell_type": "code",
   "execution_count": 10,
   "metadata": {},
   "outputs": [],
   "source": [
    "risk_profile = arxaas.risk_profile(dataset)"
   ]
  },
  {
   "cell_type": "markdown",
   "metadata": {},
   "source": [
    "#### Re-Identification Risk Plots\n",
    "The plots shows the Dataset has a high risk of re-identification."
   ]
  },
  {
   "cell_type": "code",
   "execution_count": 11,
   "metadata": {},
   "outputs": [],
   "source": [
    "dataset_re_risk = risk_profile.re_identification_risk_dataframe()\n",
    "dataset_re_risk[['estimated_prosecutor_risk', 'lowest_risk']].plot(kind=\"bar\", yticks=[0.0, 0.2, 0.4, 0.6, 0.8, 1.0], title=\"Dataset Re-Identification risks\");\n",
    "\n",
    "dataset_dis_risk = risk_profile.distribution_of_risk_dataframe()\n",
    "dataset_dis_risk.plot(kind=\"bar\", x=\"interval\",y=\"recordsWithRiskWithinInteval\", title=\"Dataset Distribution of Risk\");"
   ]
  },
  {
   "cell_type": "markdown",
   "metadata": {},
   "source": [
    "## Anonymize\n",
    "If the dataset is not anonymous enough, we can attempt to anonymize it using PyARXaaS."
   ]
  },
  {
   "cell_type": "markdown",
   "metadata": {},
   "source": [
    "### Create generalization hierarchies\n",
    "Before we can attempt to anonymize the dataset we need to create generalization hierarchies for generalizing the quasiidentifying attributes."
   ]
  },
  {
   "cell_type": "markdown",
   "metadata": {},
   "source": [
    "### Alder"
   ]
  },
  {
   "cell_type": "markdown",
   "metadata": {},
   "source": [
    "#### Interval based hierarchies\n",
    "Interval based hierarchies are well suited for continuous numeric values. Attributes such as age, income or credit score are typically generalized with a interval based hierarchy. "
   ]
  },
  {
   "cell_type": "code",
   "execution_count": 12,
   "metadata": {},
   "outputs": [
    {
     "data": {
      "text/plain": [
       "[['47', '[30, 60[', '[30, 120[', '*'],\n",
       " ['30', '[30, 60[', '[30, 120[', '*'],\n",
       " ['37', '[30, 60[', '[30, 120[', '*'],\n",
       " ['52', '[30, 60[', '[30, 120[', '*'],\n",
       " ['37', '[30, 60[', '[30, 120[', '*'],\n",
       " ['30', '[30, 60[', '[30, 120[', '*'],\n",
       " ['42', '[30, 60[', '[30, 120[', '*'],\n",
       " ['39', '[30, 60[', '[30, 120[', '*'],\n",
       " ['37', '[30, 60[', '[30, 120[', '*'],\n",
       " ['42', '[30, 60[', '[30, 120[', '*']]"
      ]
     },
     "execution_count": 12,
     "metadata": {},
     "output_type": "execute_result"
    }
   ],
   "source": [
    "from pyarxaas.hierarchy import IntervalHierarchyBuilder\n",
    "ages = df[\"Alder\"].tolist()\n",
    "iterval_builder = IntervalHierarchyBuilder()\n",
    "iterval_builder.add_interval(0, 18)\n",
    "iterval_builder.add_interval(18, 30)\n",
    "iterval_builder.add_interval(30, 60)\n",
    "iterval_builder.add_interval(60, 120)\n",
    "# Group the above intervals in order\n",
    "iterval_builder.level(0)\\\n",
    "                .add_group(2)\\\n",
    "                .add_group(2);\n",
    "age_hierarchy = arxaas.hierarchy(iterval_builder, ages)\n",
    "# Age hierarchy\n",
    "age_hierarchy[:10]"
   ]
  },
  {
   "cell_type": "markdown",
   "metadata": {},
   "source": [
    "### Barn"
   ]
  },
  {
   "cell_type": "code",
   "execution_count": 13,
   "metadata": {},
   "outputs": [
    {
     "data": {
      "text/plain": [
       "[['1', 'har barn', 'har barn', '*'],\n",
       " ['2', 'har barn', 'har barn', '*'],\n",
       " ['3', 'har mange barn', 'har barn', '*'],\n",
       " ['0', 'barnlose', 'barnlose', '*'],\n",
       " ['4', 'har mange barn', 'har barn', '*'],\n",
       " ['-1', 'barnlose', 'barnlose', '*'],\n",
       " ['5', 'har mange barn', 'har barn', '*']]"
      ]
     },
     "execution_count": 13,
     "metadata": {},
     "output_type": "execute_result"
    }
   ],
   "source": [
    "n_children = df[\"Barn\"].unique().tolist()\n",
    "n_childern_hierarchy_builder = IntervalHierarchyBuilder()\n",
    "n_childern_hierarchy_builder.add_interval(-1, 1, \"barnlose\")\n",
    "n_childern_hierarchy_builder.add_interval(1, 3, \"har barn\")\n",
    "n_childern_hierarchy_builder.add_interval(3, 6, \"har mange barn\")\n",
    "n_childern_hierarchy_builder.level(0)\\\n",
    "    .add_group(1, \"barnlose\")\\\n",
    "    .add_group(2, \"har barn\");\n",
    "n_children_hierarchy = arxaas.hierarchy(n_childern_hierarchy_builder, n_children)\n",
    "n_children_hierarchy"
   ]
  },
  {
   "cell_type": "markdown",
   "metadata": {},
   "source": [
    "### Sivilstatus"
   ]
  },
  {
   "cell_type": "markdown",
   "metadata": {},
   "source": [
    "#### Order based hierarchy\n",
    "\n",
    "OrderHierarchyBuilder are suited for categorical attributes. Attributes such as country, education level and employment status. Order based hierarchies are built using groupings with optional labeling. This means that grouping is completed on the list of values as it is. The list has to be sorted according to some ordering before a usable hierarchy can be made. "
   ]
  },
  {
   "cell_type": "code",
   "execution_count": 14,
   "metadata": {},
   "outputs": [
    {
     "data": {
      "text/plain": [
       "[['Enke', 'Har/er Gift', '*'],\n",
       " ['Gift', 'Har/er Gift', '*'],\n",
       " ['Skilt', 'Har/er Gift', '*'],\n",
       " ['Ugift', 'Ugift/Ukjent', '*'],\n",
       " ['Ukjent', 'Ugift/Ukjent', '*']]"
      ]
     },
     "execution_count": 14,
     "metadata": {},
     "output_type": "execute_result"
    }
   ],
   "source": [
    "from pyarxaas.hierarchy import OrderHierarchyBuilder\n",
    "s_statuses = sorted(df[\"Sivilstatus\"].unique().tolist())\n",
    "s_status_hierarchy_builder = OrderHierarchyBuilder()\n",
    "s_status_hierarchy_builder.level(0)\\\n",
    "    .add_group(3, \"Har/er Gift\")\\\n",
    "    .add_group(2, \"Ugift/Ukjent\");\n",
    "s_status_hierarchy = arxaas.hierarchy(s_status_hierarchy_builder, s_statuses)\n",
    "s_status_hierarchy"
   ]
  },
  {
   "cell_type": "markdown",
   "metadata": {},
   "source": [
    "### Utdanning"
   ]
  },
  {
   "cell_type": "code",
   "execution_count": 15,
   "metadata": {},
   "outputs": [
    {
     "data": {
      "text/plain": [
       "[['Høyere utd over 4 år', 'hoyere utdannelse', '*'],\n",
       " ['Høyere utd inntil 4 år', 'hoyere utdannelse', '*'],\n",
       " ['Grunnskole', 'Ukjent eller grunnutdannelse', '*'],\n",
       " ['Ukjent', 'Ukjent eller grunnutdannelse', '*'],\n",
       " ['VGS', 'Ukjent eller grunnutdannelse', '*']]"
      ]
     },
     "execution_count": 15,
     "metadata": {},
     "output_type": "execute_result"
    }
   ],
   "source": [
    "educations = sorted(df[\"Utdanning\"].unique().tolist())\n",
    "# order values according to education level\n",
    "educations[0], educations[2] = educations[2], educations[0] \n",
    "education_hierarchy_builder = OrderHierarchyBuilder()\n",
    "education_hierarchy_builder.level(0)\\\n",
    "    .add_group(2, \"hoyere utdannelse\")\\\n",
    "    .add_group(3, \"Ukjent eller grunnutdannelse\");\n",
    "education_hierarchy = arxaas.hierarchy(education_hierarchy_builder, educations)\n",
    "education_hierarchy"
   ]
  },
  {
   "cell_type": "markdown",
   "metadata": {},
   "source": [
    "### Read generalization hierarchies from file\n",
    "Note that if the hierarchy does not have a header row in the csv file, please set header=None in read_csv() or the first row will be interpreted as a header and ARXaaS will throw an exception for the missing hierarchy data."
   ]
  },
  {
   "cell_type": "code",
   "execution_count": 16,
   "metadata": {},
   "outputs": [],
   "source": [
    "ytelse_hierarchy = pd.read_csv(\"../../hierarchies/Ytelse_hierarchy.csv\", sep=\";\", header=None)\n",
    "innsatsgruppe_hierarchy = pd.read_csv(\"../../hierarchies/innsatsgruppe_hierarchy.csv\", sep=\";\", header=None)\n",
    "innvandrerbakgrunn_hierarchy = pd.read_csv(\"../../hierarchies/innvandrerbakgrunn_hierarchy.csv\", sep=\";\", header=None)\n",
    "ledighetsstatus_hierarchy = pd.read_csv(\"../../hierarchies/ledighetsstatus_hierarchy.csv\", sep=\";\", header=None)"
   ]
  },
  {
   "cell_type": "markdown",
   "metadata": {},
   "source": [
    "### Set hierarchies"
   ]
  },
  {
   "cell_type": "code",
   "execution_count": 17,
   "metadata": {},
   "outputs": [],
   "source": [
    "dataset.set_hierarchy('Ytelse', ytelse_hierarchy)\n",
    "dataset.set_hierarchy(\"Innsatsgruppe\", innsatsgruppe_hierarchy)\n",
    "dataset.set_hierarchy(\"Innvandrerbakgrunn\", innvandrerbakgrunn_hierarchy)\n",
    "dataset.set_hierarchy(\"Ledighetsstatus\", ledighetsstatus_hierarchy)\n",
    "dataset.set_hierarchy(\"Alder\", age_hierarchy)\n",
    "dataset.set_hierarchy(\"Sivilstatus\", s_status_hierarchy)\n",
    "dataset.set_hierarchy(\"Barn\", n_children_hierarchy)\n",
    "dataset.set_hierarchy(\"Utdanning\", education_hierarchy)"
   ]
  },
  {
   "cell_type": "markdown",
   "metadata": {},
   "source": [
    "### Create Privacy Models\n",
    "This well-known privacy model aims at protecting datasets from re-identification in the prosecutor model. A dataset is k-anonymous if each record cannot be distinguished from at least k-1 other records regarding the quasi-identifiers. Each group of indistinguishable records forms a so-called equivalence class."
   ]
  },
  {
   "cell_type": "code",
   "execution_count": 18,
   "metadata": {},
   "outputs": [],
   "source": [
    "kanon = KAnonymity(4)"
   ]
  },
  {
   "cell_type": "markdown",
   "metadata": {},
   "source": [
    "LDiversity privacy model can be used to protect data against attribute disclosure by ensuring that each sensitive attribute has at least ℓ \"well represented\" values in each equivalence class."
   ]
  },
  {
   "cell_type": "code",
   "execution_count": 19,
   "metadata": {},
   "outputs": [],
   "source": [
    "ldiv = LDiversityDistinct(2, \"Medisinsk forhold\")"
   ]
  },
  {
   "cell_type": "markdown",
   "metadata": {},
   "source": [
    "### With the hierarchies set we can attempt anonymization"
   ]
  },
  {
   "cell_type": "code",
   "execution_count": 28,
   "metadata": {},
   "outputs": [],
   "source": [
    "anon_result = arxaas.anonymize(dataset, [kanon, ldiv])"
   ]
  },
  {
   "cell_type": "code",
   "execution_count": 29,
   "metadata": {},
   "outputs": [
    {
     "data": {
      "text/html": [
       "<div>\n",
       "<style scoped>\n",
       "    .dataframe tbody tr th:only-of-type {\n",
       "        vertical-align: middle;\n",
       "    }\n",
       "\n",
       "    .dataframe tbody tr th {\n",
       "        vertical-align: top;\n",
       "    }\n",
       "\n",
       "    .dataframe thead th {\n",
       "        text-align: right;\n",
       "    }\n",
       "</style>\n",
       "<table border=\"1\" class=\"dataframe\">\n",
       "  <thead>\n",
       "    <tr style=\"text-align: right;\">\n",
       "      <th></th>\n",
       "      <th>Dummy_tag</th>\n",
       "      <th>ID</th>\n",
       "      <th>Navn</th>\n",
       "      <th>Alder</th>\n",
       "      <th>Sivilstatus</th>\n",
       "      <th>Barn</th>\n",
       "      <th>Innsatsgruppe</th>\n",
       "      <th>Innvandrerbakgrunn</th>\n",
       "      <th>Ledighetsstatus</th>\n",
       "      <th>Utdanning</th>\n",
       "      <th>Ytelse</th>\n",
       "      <th>Medisinsk forhold</th>\n",
       "    </tr>\n",
       "  </thead>\n",
       "  <tbody>\n",
       "    <tr>\n",
       "      <th>0</th>\n",
       "      <td>dummy_data</td>\n",
       "      <td>*</td>\n",
       "      <td>*</td>\n",
       "      <td>*</td>\n",
       "      <td>Ukjent</td>\n",
       "      <td>*</td>\n",
       "      <td>Spesielt tilpasset</td>\n",
       "      <td>*</td>\n",
       "      <td>Delvis ledig</td>\n",
       "      <td>Høyere utd inntil 4 år</td>\n",
       "      <td>*</td>\n",
       "      <td>Ingen</td>\n",
       "    </tr>\n",
       "    <tr>\n",
       "      <th>1</th>\n",
       "      <td>dummy_data</td>\n",
       "      <td>*</td>\n",
       "      <td>*</td>\n",
       "      <td>*</td>\n",
       "      <td>Gift</td>\n",
       "      <td>*</td>\n",
       "      <td>Varig tilpasset</td>\n",
       "      <td>*</td>\n",
       "      <td>ledig</td>\n",
       "      <td>Grunnskole</td>\n",
       "      <td>*</td>\n",
       "      <td>Ingen</td>\n",
       "    </tr>\n",
       "    <tr>\n",
       "      <th>2</th>\n",
       "      <td>dummy_data</td>\n",
       "      <td>*</td>\n",
       "      <td>*</td>\n",
       "      <td>*</td>\n",
       "      <td>Ukjent</td>\n",
       "      <td>*</td>\n",
       "      <td>Varig tilpasset</td>\n",
       "      <td>*</td>\n",
       "      <td>Delvis ledig</td>\n",
       "      <td>Grunnskole</td>\n",
       "      <td>*</td>\n",
       "      <td>Ingen</td>\n",
       "    </tr>\n",
       "    <tr>\n",
       "      <th>3</th>\n",
       "      <td>dummy_data</td>\n",
       "      <td>*</td>\n",
       "      <td>*</td>\n",
       "      <td>*</td>\n",
       "      <td>Ugift</td>\n",
       "      <td>*</td>\n",
       "      <td>Varig tilpasset</td>\n",
       "      <td>*</td>\n",
       "      <td>Delvis ledig</td>\n",
       "      <td>Høyere utd inntil 4 år</td>\n",
       "      <td>*</td>\n",
       "      <td>Ingen</td>\n",
       "    </tr>\n",
       "    <tr>\n",
       "      <th>4</th>\n",
       "      <td>dummy_data</td>\n",
       "      <td>*</td>\n",
       "      <td>*</td>\n",
       "      <td>*</td>\n",
       "      <td>Ukjent</td>\n",
       "      <td>*</td>\n",
       "      <td>Spesielt tilpasset</td>\n",
       "      <td>*</td>\n",
       "      <td>Delvis ledig</td>\n",
       "      <td>Høyere utd over 4 år</td>\n",
       "      <td>*</td>\n",
       "      <td>Ingen</td>\n",
       "    </tr>\n",
       "    <tr>\n",
       "      <th>5</th>\n",
       "      <td>dummy_data</td>\n",
       "      <td>*</td>\n",
       "      <td>*</td>\n",
       "      <td>*</td>\n",
       "      <td>Gift</td>\n",
       "      <td>*</td>\n",
       "      <td>Spesielt tilpasset</td>\n",
       "      <td>*</td>\n",
       "      <td>Delvis ledig</td>\n",
       "      <td>VGS</td>\n",
       "      <td>*</td>\n",
       "      <td>Ingen</td>\n",
       "    </tr>\n",
       "    <tr>\n",
       "      <th>6</th>\n",
       "      <td>dummy_data</td>\n",
       "      <td>*</td>\n",
       "      <td>*</td>\n",
       "      <td>*</td>\n",
       "      <td>Enke</td>\n",
       "      <td>*</td>\n",
       "      <td>Spesielt tilpasset</td>\n",
       "      <td>*</td>\n",
       "      <td>Delvis ledig</td>\n",
       "      <td>Høyere utd inntil 4 år</td>\n",
       "      <td>*</td>\n",
       "      <td>Ingen</td>\n",
       "    </tr>\n",
       "    <tr>\n",
       "      <th>7</th>\n",
       "      <td>dummy_data</td>\n",
       "      <td>*</td>\n",
       "      <td>*</td>\n",
       "      <td>*</td>\n",
       "      <td>Enke</td>\n",
       "      <td>*</td>\n",
       "      <td>Varig tilpasset</td>\n",
       "      <td>*</td>\n",
       "      <td>ledig</td>\n",
       "      <td>VGS</td>\n",
       "      <td>*</td>\n",
       "      <td>Ingen</td>\n",
       "    </tr>\n",
       "    <tr>\n",
       "      <th>8</th>\n",
       "      <td>dummy_data</td>\n",
       "      <td>*</td>\n",
       "      <td>*</td>\n",
       "      <td>*</td>\n",
       "      <td>Enke</td>\n",
       "      <td>*</td>\n",
       "      <td>Varig tilpasset</td>\n",
       "      <td>*</td>\n",
       "      <td>Delvis ledig</td>\n",
       "      <td>Grunnskole</td>\n",
       "      <td>*</td>\n",
       "      <td>Ingen</td>\n",
       "    </tr>\n",
       "    <tr>\n",
       "      <th>9</th>\n",
       "      <td>dummy_data</td>\n",
       "      <td>*</td>\n",
       "      <td>*</td>\n",
       "      <td>*</td>\n",
       "      <td>Gift</td>\n",
       "      <td>*</td>\n",
       "      <td>Varig tilpasset</td>\n",
       "      <td>*</td>\n",
       "      <td>ledig</td>\n",
       "      <td>Ukjent</td>\n",
       "      <td>*</td>\n",
       "      <td>Ingen</td>\n",
       "    </tr>\n",
       "    <tr>\n",
       "      <th>10</th>\n",
       "      <td>dummy_data</td>\n",
       "      <td>*</td>\n",
       "      <td>*</td>\n",
       "      <td>*</td>\n",
       "      <td>Enke</td>\n",
       "      <td>*</td>\n",
       "      <td>Varig tilpasset</td>\n",
       "      <td>*</td>\n",
       "      <td>ledig</td>\n",
       "      <td>Grunnskole</td>\n",
       "      <td>*</td>\n",
       "      <td>Ingen</td>\n",
       "    </tr>\n",
       "    <tr>\n",
       "      <th>11</th>\n",
       "      <td>dummy_data</td>\n",
       "      <td>*</td>\n",
       "      <td>*</td>\n",
       "      <td>*</td>\n",
       "      <td>Enke</td>\n",
       "      <td>*</td>\n",
       "      <td>Varig tilpasset</td>\n",
       "      <td>*</td>\n",
       "      <td>ledig</td>\n",
       "      <td>Høyere utd inntil 4 år</td>\n",
       "      <td>*</td>\n",
       "      <td>Ingen</td>\n",
       "    </tr>\n",
       "    <tr>\n",
       "      <th>12</th>\n",
       "      <td>dummy_data</td>\n",
       "      <td>*</td>\n",
       "      <td>*</td>\n",
       "      <td>*</td>\n",
       "      <td>Skilt</td>\n",
       "      <td>*</td>\n",
       "      <td>Varig tilpasset</td>\n",
       "      <td>*</td>\n",
       "      <td>ledig</td>\n",
       "      <td>VGS</td>\n",
       "      <td>*</td>\n",
       "      <td>Ingen</td>\n",
       "    </tr>\n",
       "    <tr>\n",
       "      <th>13</th>\n",
       "      <td>dummy_data</td>\n",
       "      <td>*</td>\n",
       "      <td>*</td>\n",
       "      <td>*</td>\n",
       "      <td>Skilt</td>\n",
       "      <td>*</td>\n",
       "      <td>Varig tilpasset</td>\n",
       "      <td>*</td>\n",
       "      <td>ledig</td>\n",
       "      <td>VGS</td>\n",
       "      <td>*</td>\n",
       "      <td>Artrose</td>\n",
       "    </tr>\n",
       "    <tr>\n",
       "      <th>14</th>\n",
       "      <td>dummy_data</td>\n",
       "      <td>*</td>\n",
       "      <td>*</td>\n",
       "      <td>*</td>\n",
       "      <td>Ugift</td>\n",
       "      <td>*</td>\n",
       "      <td>Varig tilpasset</td>\n",
       "      <td>*</td>\n",
       "      <td>Delvis ledig</td>\n",
       "      <td>VGS</td>\n",
       "      <td>*</td>\n",
       "      <td>Hjerteflimmer</td>\n",
       "    </tr>\n",
       "    <tr>\n",
       "      <th>15</th>\n",
       "      <td>dummy_data</td>\n",
       "      <td>*</td>\n",
       "      <td>*</td>\n",
       "      <td>*</td>\n",
       "      <td>Enke</td>\n",
       "      <td>*</td>\n",
       "      <td>Varig tilpasset</td>\n",
       "      <td>*</td>\n",
       "      <td>ledig</td>\n",
       "      <td>VGS</td>\n",
       "      <td>*</td>\n",
       "      <td>Ingen</td>\n",
       "    </tr>\n",
       "    <tr>\n",
       "      <th>16</th>\n",
       "      <td>dummy_data</td>\n",
       "      <td>*</td>\n",
       "      <td>*</td>\n",
       "      <td>*</td>\n",
       "      <td>Skilt</td>\n",
       "      <td>*</td>\n",
       "      <td>Varig tilpasset</td>\n",
       "      <td>*</td>\n",
       "      <td>ledig</td>\n",
       "      <td>Grunnskole</td>\n",
       "      <td>*</td>\n",
       "      <td>Ingen</td>\n",
       "    </tr>\n",
       "    <tr>\n",
       "      <th>17</th>\n",
       "      <td>dummy_data</td>\n",
       "      <td>*</td>\n",
       "      <td>*</td>\n",
       "      <td>*</td>\n",
       "      <td>Ukjent</td>\n",
       "      <td>*</td>\n",
       "      <td>Varig tilpasset</td>\n",
       "      <td>*</td>\n",
       "      <td>ledig</td>\n",
       "      <td>Høyere utd inntil 4 år</td>\n",
       "      <td>*</td>\n",
       "      <td>Hjerteflimmer</td>\n",
       "    </tr>\n",
       "    <tr>\n",
       "      <th>18</th>\n",
       "      <td>dummy_data</td>\n",
       "      <td>*</td>\n",
       "      <td>*</td>\n",
       "      <td>*</td>\n",
       "      <td>Enke</td>\n",
       "      <td>*</td>\n",
       "      <td>Varig tilpasset</td>\n",
       "      <td>*</td>\n",
       "      <td>ledig</td>\n",
       "      <td>Ukjent</td>\n",
       "      <td>*</td>\n",
       "      <td>Ingen</td>\n",
       "    </tr>\n",
       "    <tr>\n",
       "      <th>19</th>\n",
       "      <td>dummy_data</td>\n",
       "      <td>*</td>\n",
       "      <td>*</td>\n",
       "      <td>*</td>\n",
       "      <td>Ukjent</td>\n",
       "      <td>*</td>\n",
       "      <td>Varig tilpasset</td>\n",
       "      <td>*</td>\n",
       "      <td>ledig</td>\n",
       "      <td>VGS</td>\n",
       "      <td>*</td>\n",
       "      <td>Ingen</td>\n",
       "    </tr>\n",
       "  </tbody>\n",
       "</table>\n",
       "</div>"
      ],
      "text/plain": [
       "     Dummy_tag ID Navn Alder Sivilstatus Barn       Innsatsgruppe  \\\n",
       "0   dummy_data  *    *     *      Ukjent    *  Spesielt tilpasset   \n",
       "1   dummy_data  *    *     *        Gift    *     Varig tilpasset   \n",
       "2   dummy_data  *    *     *      Ukjent    *     Varig tilpasset   \n",
       "3   dummy_data  *    *     *       Ugift    *     Varig tilpasset   \n",
       "4   dummy_data  *    *     *      Ukjent    *  Spesielt tilpasset   \n",
       "5   dummy_data  *    *     *        Gift    *  Spesielt tilpasset   \n",
       "6   dummy_data  *    *     *        Enke    *  Spesielt tilpasset   \n",
       "7   dummy_data  *    *     *        Enke    *     Varig tilpasset   \n",
       "8   dummy_data  *    *     *        Enke    *     Varig tilpasset   \n",
       "9   dummy_data  *    *     *        Gift    *     Varig tilpasset   \n",
       "10  dummy_data  *    *     *        Enke    *     Varig tilpasset   \n",
       "11  dummy_data  *    *     *        Enke    *     Varig tilpasset   \n",
       "12  dummy_data  *    *     *       Skilt    *     Varig tilpasset   \n",
       "13  dummy_data  *    *     *       Skilt    *     Varig tilpasset   \n",
       "14  dummy_data  *    *     *       Ugift    *     Varig tilpasset   \n",
       "15  dummy_data  *    *     *        Enke    *     Varig tilpasset   \n",
       "16  dummy_data  *    *     *       Skilt    *     Varig tilpasset   \n",
       "17  dummy_data  *    *     *      Ukjent    *     Varig tilpasset   \n",
       "18  dummy_data  *    *     *        Enke    *     Varig tilpasset   \n",
       "19  dummy_data  *    *     *      Ukjent    *     Varig tilpasset   \n",
       "\n",
       "   Innvandrerbakgrunn Ledighetsstatus               Utdanning Ytelse  \\\n",
       "0                   *    Delvis ledig  Høyere utd inntil 4 år      *   \n",
       "1                   *           ledig              Grunnskole      *   \n",
       "2                   *    Delvis ledig              Grunnskole      *   \n",
       "3                   *    Delvis ledig  Høyere utd inntil 4 år      *   \n",
       "4                   *    Delvis ledig    Høyere utd over 4 år      *   \n",
       "5                   *    Delvis ledig                     VGS      *   \n",
       "6                   *    Delvis ledig  Høyere utd inntil 4 år      *   \n",
       "7                   *           ledig                     VGS      *   \n",
       "8                   *    Delvis ledig              Grunnskole      *   \n",
       "9                   *           ledig                  Ukjent      *   \n",
       "10                  *           ledig              Grunnskole      *   \n",
       "11                  *           ledig  Høyere utd inntil 4 år      *   \n",
       "12                  *           ledig                     VGS      *   \n",
       "13                  *           ledig                     VGS      *   \n",
       "14                  *    Delvis ledig                     VGS      *   \n",
       "15                  *           ledig                     VGS      *   \n",
       "16                  *           ledig              Grunnskole      *   \n",
       "17                  *           ledig  Høyere utd inntil 4 år      *   \n",
       "18                  *           ledig                  Ukjent      *   \n",
       "19                  *           ledig                     VGS      *   \n",
       "\n",
       "   Medisinsk forhold  \n",
       "0              Ingen  \n",
       "1              Ingen  \n",
       "2              Ingen  \n",
       "3              Ingen  \n",
       "4              Ingen  \n",
       "5              Ingen  \n",
       "6              Ingen  \n",
       "7              Ingen  \n",
       "8              Ingen  \n",
       "9              Ingen  \n",
       "10             Ingen  \n",
       "11             Ingen  \n",
       "12             Ingen  \n",
       "13           Artrose  \n",
       "14     Hjerteflimmer  \n",
       "15             Ingen  \n",
       "16             Ingen  \n",
       "17     Hjerteflimmer  \n",
       "18             Ingen  \n",
       "19             Ingen  "
      ]
     },
     "execution_count": 29,
     "metadata": {},
     "output_type": "execute_result"
    }
   ],
   "source": [
    "result = anon_result.dataset.to_dataframe()\n",
    "result.head(20)"
   ]
  },
  {
   "cell_type": "markdown",
   "metadata": {},
   "source": [
    "###  Risk Profile for the anonymized dataset"
   ]
  },
  {
   "cell_type": "code",
   "execution_count": 30,
   "metadata": {},
   "outputs": [],
   "source": [
    "anon_rp = anon_result.risk_profile"
   ]
  },
  {
   "cell_type": "code",
   "execution_count": 31,
   "metadata": {},
   "outputs": [
    {
     "data": {
      "image/png": "[encoded data removed]",
      "text/plain": [
       "<Figure size 432x288 with 1 Axes>"
      ]
     },
     "metadata": {
      "needs_background": "light"
     },
     "output_type": "display_data"
    },
    {
     "data": {
      "image/png": "[encoded data removed]",
      "text/plain": [
       "<Figure size 432x288 with 1 Axes>"
      ]
     },
     "metadata": {
      "needs_background": "light"
     },
     "output_type": "display_data"
    }
   ],
   "source": [
    "dataset_re_risk = risk_profile.re_identification_risk_dataframe()\n",
    "dataset_re_risk[['estimated_prosecutor_risk', 'lowest_risk']].plot(kind=\"bar\", yticks=[0.0, 0.2, 0.4, 0.6, 0.8, 1.0], title=\"Dataset Re-Identification risks\");\n",
    "\n",
    "anon_re_risk = anon_rp.re_identification_risk_dataframe()\n",
    "anon_re_risk[['estimated_prosecutor_risk', 'lowest_risk']].plot(kind=\"bar\", yticks=[0.0, 0.2, 0.4, 0.6, 0.8, 1.0], title=\"After Anonymization Re-Identification risks\");"
   ]
  },
  {
   "cell_type": "markdown",
   "metadata": {},
   "source": [
    "### Risk Distribution - Before and After"
   ]
  },
  {
   "cell_type": "code",
   "execution_count": 32,
   "metadata": {},
   "outputs": [
    {
     "data": {
      "image/png": "[encoded data removed]",
      "text/plain": [
       "<Figure size 432x288 with 1 Axes>"
      ]
     },
     "metadata": {
      "needs_background": "light"
     },
     "output_type": "display_data"
    },
    {
     "data": {
      "image/png": "[encoded data removed]",
      "text/plain": [
       "<Figure size 432x288 with 1 Axes>"
      ]
     },
     "metadata": {
      "needs_background": "light"
     },
     "output_type": "display_data"
    }
   ],
   "source": [
    "anon_dist_risk=anon_rp.distribution_of_risk_dataframe()\n",
    "dataset_dis_risk.plot(kind=\"bar\", x=\"interval\",y=\"recordsWithRiskWithinInteval\", yticks=[0.0, 0.2, 0.4, 0.6, 0.8, 1.0], title=\"Original Dataset Distribution of Risk\");\n",
    "anon_dist_risk.plot(kind=\"bar\", x=\"interval\", y=\"recordsWithRiskWithinInteval\", yticks=[0.0, 0.2, 0.4, 0.6, 0.8, 1.0], title=\"After Anonymization Distribution of Risk\");"
   ]
  },
  {
   "cell_type": "markdown",
   "metadata": {},
   "source": [
    "### Anonymization Metrics"
   ]
  },
  {
   "cell_type": "code",
   "execution_count": 37,
   "metadata": {},
   "outputs": [],
   "source": [
    "metrics = anon_result.anonymization_metrics"
   ]
  },
  {
   "cell_type": "markdown",
   "metadata": {},
   "source": [
    "### Information about the levels the hierarchies used"
   ]
  },
  {
   "cell_type": "code",
   "execution_count": 38,
   "metadata": {},
   "outputs": [
    {
     "data": {
      "text/plain": [
       "[{'name': 'Alder',\n",
       "  'type': 'QUASI_IDENTIFYING_ATTRIBUTE',\n",
       "  'generalizationLevel': 3},\n",
       " {'name': 'Sivilstatus',\n",
       "  'type': 'QUASI_IDENTIFYING_ATTRIBUTE',\n",
       "  'generalizationLevel': 0},\n",
       " {'name': 'Barn',\n",
       "  'type': 'QUASI_IDENTIFYING_ATTRIBUTE',\n",
       "  'generalizationLevel': 3},\n",
       " {'name': 'Innsatsgruppe',\n",
       "  'type': 'QUASI_IDENTIFYING_ATTRIBUTE',\n",
       "  'generalizationLevel': 1},\n",
       " {'name': 'Innvandrerbakgrunn',\n",
       "  'type': 'QUASI_IDENTIFYING_ATTRIBUTE',\n",
       "  'generalizationLevel': 2},\n",
       " {'name': 'Ledighetsstatus',\n",
       "  'type': 'QUASI_IDENTIFYING_ATTRIBUTE',\n",
       "  'generalizationLevel': 1},\n",
       " {'name': 'Utdanning',\n",
       "  'type': 'QUASI_IDENTIFYING_ATTRIBUTE',\n",
       "  'generalizationLevel': 0},\n",
       " {'name': 'Ytelse',\n",
       "  'type': 'QUASI_IDENTIFYING_ATTRIBUTE',\n",
       "  'generalizationLevel': 2}]"
      ]
     },
     "execution_count": 38,
     "metadata": {},
     "output_type": "execute_result"
    }
   ],
   "source": [
    "metrics.attribute_generalization"
   ]
  },
  {
   "cell_type": "markdown",
   "metadata": {},
   "source": [
    "### Information about Privacy Models configuration"
   ]
  },
  {
   "cell_type": "code",
   "execution_count": 39,
   "metadata": {},
   "outputs": [
    {
     "data": {
      "text/plain": [
       "[{'monotonicWithGeneralization': True,\n",
       "  'k': 4,\n",
       "  'requirements': 1,\n",
       "  'riskThresholdJournalist': 0.25,\n",
       "  'riskThresholdMarketer': 0.25,\n",
       "  'riskThresholdProsecutor': 0.25,\n",
       "  'localRecodingSupported': True,\n",
       "  'minimalClassSizeAvailable': True,\n",
       "  'minimalClassSize': 4,\n",
       "  'populationModel': None,\n",
       "  'subset': None,\n",
       "  'dataSubset': None,\n",
       "  'subsetAvailable': False,\n",
       "  'sampleBased': False,\n",
       "  'monotonicWithSuppression': True},\n",
       " {'monotonicWithGeneralization': True,\n",
       "  'attribute': 'Medisinsk forhold',\n",
       "  'l': 2.0,\n",
       "  'localRecodingSupported': True,\n",
       "  'requirements': 4,\n",
       "  'riskThresholdJournalist': 0.5,\n",
       "  'riskThresholdMarketer': 0.5,\n",
       "  'riskThresholdProsecutor': 0.5,\n",
       "  'minimalClassSizeAvailable': True,\n",
       "  'minimalClassSize': 2,\n",
       "  'populationModel': None,\n",
       "  'subset': None,\n",
       "  'dataSubset': None,\n",
       "  'subsetAvailable': False,\n",
       "  'sampleBased': False,\n",
       "  'monotonicWithSuppression': True}]"
      ]
     },
     "execution_count": 39,
     "metadata": {},
     "output_type": "execute_result"
    }
   ],
   "source": [
    "metrics.privacy_models"
   ]
  },
  {
   "cell_type": "code",
   "execution_count": null,
   "metadata": {},
   "outputs": [],
   "source": []
  }
 ],
 "metadata": {
  "kernelspec": {
   "display_name": "Python 3",
   "language": "python",
   "name": "python3"
  },
  "language_info": {
   "codemirror_mode": {
    "name": "ipython",
    "version": 3
   },
   "file_extension": ".py",
   "mimetype": "text/x-python",
   "name": "python",
   "nbconvert_exporter": "python",
   "pygments_lexer": "ipython3",
   "version": "3.7.2"
  }
 },
 "nbformat": 4,
 "nbformat_minor": 2
}

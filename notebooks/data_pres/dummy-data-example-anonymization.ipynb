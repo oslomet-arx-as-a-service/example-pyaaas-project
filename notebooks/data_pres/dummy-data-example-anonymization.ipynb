{
 "cells": [
  {
   "cell_type": "markdown",
   "metadata": {},
   "source": [
    "# Example walkthrough of analyzation and anonymization of a dataset containing sensitive attributes"
   ]
  },
  {
   "cell_type": "markdown",
   "metadata": {},
   "source": [
    "### Import pyarxaas modules and classes"
   ]
  },
  {
   "cell_type": "code",
   "execution_count": 242,
   "metadata": {},
   "outputs": [],
   "source": [
    "import pandas as pd\n",
    "from pyaaas import ARXaaS, Dataset, AttributeType\n",
    "from pyaaas.privacy_models import KAnonymity, LDiversityDistinct"
   ]
  },
  {
   "cell_type": "markdown",
   "metadata": {},
   "source": [
    "### Import sensitive dataset\n",
    "In this example a pandas DataFrame is created from a csv file, but any data source that can be converted to a DataFrame or Python dict would suffice."
   ]
  },
  {
   "cell_type": "code",
   "execution_count": 243,
   "metadata": {},
   "outputs": [],
   "source": [
    "df = pd.read_csv(\"../../data/dummy-dataset-260219.csv\", sep=\";\")"
   ]
  },
  {
   "cell_type": "code",
   "execution_count": 244,
   "metadata": {},
   "outputs": [
    {
     "data": {
      "text/html": [
       "<div>\n",
       "<style scoped>\n",
       "    .dataframe tbody tr th:only-of-type {\n",
       "        vertical-align: middle;\n",
       "    }\n",
       "\n",
       "    .dataframe tbody tr th {\n",
       "        vertical-align: top;\n",
       "    }\n",
       "\n",
       "    .dataframe thead th {\n",
       "        text-align: right;\n",
       "    }\n",
       "</style>\n",
       "<table border=\"1\" class=\"dataframe\">\n",
       "  <thead>\n",
       "    <tr style=\"text-align: right;\">\n",
       "      <th></th>\n",
       "      <th>Dummy_tag</th>\n",
       "      <th>ID</th>\n",
       "      <th>Navn</th>\n",
       "      <th>Alder</th>\n",
       "      <th>Sivilstatus</th>\n",
       "      <th>Barn</th>\n",
       "      <th>Innsatsgruppe</th>\n",
       "      <th>Innvandrerbakgrunn</th>\n",
       "      <th>Ledighetsstatus</th>\n",
       "      <th>Utdanning</th>\n",
       "      <th>Ytelse</th>\n",
       "      <th>Medisinsk forhold</th>\n",
       "    </tr>\n",
       "  </thead>\n",
       "  <tbody>\n",
       "    <tr>\n",
       "      <th>0</th>\n",
       "      <td>dummy_data</td>\n",
       "      <td>PY827</td>\n",
       "      <td>Eirik</td>\n",
       "      <td>47</td>\n",
       "      <td>Ukjent</td>\n",
       "      <td>1</td>\n",
       "      <td>Situasjonsbestemt innsats</td>\n",
       "      <td>Togo</td>\n",
       "      <td>Delvis ledig</td>\n",
       "      <td>Høyere utd inntil 4 år</td>\n",
       "      <td>Tiltakspenger</td>\n",
       "      <td>Ingen</td>\n",
       "    </tr>\n",
       "    <tr>\n",
       "      <th>1</th>\n",
       "      <td>dummy_data</td>\n",
       "      <td>CX244</td>\n",
       "      <td>Ella</td>\n",
       "      <td>30</td>\n",
       "      <td>Gift</td>\n",
       "      <td>2</td>\n",
       "      <td>Varig tilpasset</td>\n",
       "      <td>Surinam</td>\n",
       "      <td>Ordinær tiltaksdeltaker</td>\n",
       "      <td>Grunnskole</td>\n",
       "      <td>Dagpenger</td>\n",
       "      <td>Ingen</td>\n",
       "    </tr>\n",
       "    <tr>\n",
       "      <th>2</th>\n",
       "      <td>dummy_data</td>\n",
       "      <td>ZE697</td>\n",
       "      <td>Solveig</td>\n",
       "      <td>37</td>\n",
       "      <td>Ukjent</td>\n",
       "      <td>1</td>\n",
       "      <td>Standard innsats</td>\n",
       "      <td>Malta</td>\n",
       "      <td>Delvis ledig</td>\n",
       "      <td>Grunnskole</td>\n",
       "      <td>Dagpenger</td>\n",
       "      <td>Ingen</td>\n",
       "    </tr>\n",
       "    <tr>\n",
       "      <th>3</th>\n",
       "      <td>dummy_data</td>\n",
       "      <td>AR215</td>\n",
       "      <td>Eirik</td>\n",
       "      <td>52</td>\n",
       "      <td>Ugift</td>\n",
       "      <td>1</td>\n",
       "      <td>Standard innsats</td>\n",
       "      <td>Norge</td>\n",
       "      <td>Andre arbeidssøkende</td>\n",
       "      <td>Høyere utd inntil 4 år</td>\n",
       "      <td>Uføretrygd</td>\n",
       "      <td>Ingen</td>\n",
       "    </tr>\n",
       "    <tr>\n",
       "      <th>4</th>\n",
       "      <td>dummy_data</td>\n",
       "      <td>CZ546</td>\n",
       "      <td>Heidi</td>\n",
       "      <td>37</td>\n",
       "      <td>Ukjent</td>\n",
       "      <td>3</td>\n",
       "      <td>Spesielt tilpasset</td>\n",
       "      <td>Surinam</td>\n",
       "      <td>Andre arbeidssøkende</td>\n",
       "      <td>Høyere utd over 4 år</td>\n",
       "      <td>Dagpenger</td>\n",
       "      <td>Ingen</td>\n",
       "    </tr>\n",
       "  </tbody>\n",
       "</table>\n",
       "</div>"
      ],
      "text/plain": [
       "    Dummy_tag     ID     Navn  Alder Sivilstatus  Barn  \\\n",
       "0  dummy_data  PY827    Eirik     47      Ukjent     1   \n",
       "1  dummy_data  CX244     Ella     30        Gift     2   \n",
       "2  dummy_data  ZE697  Solveig     37      Ukjent     1   \n",
       "3  dummy_data  AR215    Eirik     52       Ugift     1   \n",
       "4  dummy_data  CZ546    Heidi     37      Ukjent     3   \n",
       "\n",
       "               Innsatsgruppe Innvandrerbakgrunn          Ledighetsstatus  \\\n",
       "0  Situasjonsbestemt innsats               Togo             Delvis ledig   \n",
       "1            Varig tilpasset            Surinam  Ordinær tiltaksdeltaker   \n",
       "2           Standard innsats              Malta             Delvis ledig   \n",
       "3           Standard innsats              Norge     Andre arbeidssøkende   \n",
       "4         Spesielt tilpasset            Surinam     Andre arbeidssøkende   \n",
       "\n",
       "                Utdanning         Ytelse Medisinsk forhold  \n",
       "0  Høyere utd inntil 4 år  Tiltakspenger             Ingen  \n",
       "1              Grunnskole      Dagpenger             Ingen  \n",
       "2              Grunnskole      Dagpenger             Ingen  \n",
       "3  Høyere utd inntil 4 år     Uføretrygd             Ingen  \n",
       "4    Høyere utd over 4 år      Dagpenger             Ingen  "
      ]
     },
     "execution_count": 244,
     "metadata": {},
     "output_type": "execute_result"
    }
   ],
   "source": [
    "df.head()"
   ]
  },
  {
   "cell_type": "markdown",
   "metadata": {},
   "source": [
    "### Create pyaaas.Dataset object\n",
    "The Dataset class provide anonymization abstractions for a dataset."
   ]
  },
  {
   "cell_type": "code",
   "execution_count": 245,
   "metadata": {},
   "outputs": [],
   "source": [
    "dataset = Dataset.from_pandas(df)"
   ]
  },
  {
   "cell_type": "markdown",
   "metadata": {},
   "source": [
    "### Set the AttributeType for the dataset fields\n",
    "AttributeType defines the re-identification risk associated with a attribute."
   ]
  },
  {
   "cell_type": "code",
   "execution_count": 246,
   "metadata": {},
   "outputs": [],
   "source": [
    "dataset.set_attribute_type(AttributeType.IDENTIFYING,\n",
    "                        'ID',\n",
    "                        'Navn')"
   ]
  },
  {
   "cell_type": "code",
   "execution_count": 247,
   "metadata": {},
   "outputs": [],
   "source": [
    "dataset.set_attribute_type(AttributeType.QUASIIDENTIFYING,\n",
    "                        'Innsatsgruppe',\n",
    "                        'Innvandrerbakgrunn',\n",
    "                        'Ledighetsstatus',\n",
    "                        'Ytelse',\n",
    "                        'Alder',\n",
    "                        'Sivilstatus',\n",
    "                        'Barn',\n",
    "                        'Utdanning')"
   ]
  },
  {
   "cell_type": "code",
   "execution_count": 285,
   "metadata": {},
   "outputs": [],
   "source": [
    "dataset.set_attribute_type(AttributeType.SENSITIVE,\n",
    "                           'Medisinsk forhold')"
   ]
  },
  {
   "cell_type": "code",
   "execution_count": 249,
   "metadata": {},
   "outputs": [],
   "source": [
    "dataset.set_attribute_type(AttributeType.INSENSITIVE,\n",
    "                        'Dummy_tag')"
   ]
  },
  {
   "cell_type": "markdown",
   "metadata": {},
   "source": [
    "### Create service connection\n",
    "\n",
    "creates an instance of the ARXaaS class that implements methods to interact with the service."
   ]
  },
  {
   "cell_type": "code",
   "execution_count": 250,
   "metadata": {},
   "outputs": [],
   "source": [
    "arxaas = ARXaaS(\"http://localhost:8080/\") # connecting to service"
   ]
  },
  {
   "cell_type": "markdown",
   "metadata": {},
   "source": [
    "### Create Risk Profile\n",
    "Various privacy risks can be analyzed. These include re-identification risks for the prosecutor, journalist and marketer attacker models as well as risks derived from population uniqueness, which can be estimated with different statistical methods."
   ]
  },
  {
   "cell_type": "code",
   "execution_count": 342,
   "metadata": {},
   "outputs": [],
   "source": [
    "risk_profile = arxaas.risk_profile(dataset)"
   ]
  },
  {
   "cell_type": "markdown",
   "metadata": {},
   "source": [
    "#### Re-Identification Risk Plots\n",
    "The plots shows the Dataset has a high risk of re-identification."
   ]
  },
  {
   "cell_type": "code",
   "execution_count": 343,
   "metadata": {},
   "outputs": [
    {
     "data": {
      "image/png": "[encoded data removed]",
      "text/plain": [
       "<Figure size 432x288 with 1 Axes>"
      ]
     },
     "metadata": {
      "needs_background": "light"
     },
     "output_type": "display_data"
    }
   ],
   "source": [
    "dataset_re_risk = risk_profile.re_identification_risk_dataframe()\n",
    "dataset_re_risk[['estimated_prosecutor_risk', 'highest_prosecutor_risk', 'lowest_risk']].plot(kind=\"bar\", title=\"Dataset Re-Identification risks\");"
   ]
  },
  {
   "cell_type": "code",
   "execution_count": 344,
   "metadata": {},
   "outputs": [
    {
     "data": {
      "image/png": "[encoded data removed]",
      "text/plain": [
       "<Figure size 432x288 with 1 Axes>"
      ]
     },
     "metadata": {
      "needs_background": "light"
     },
     "output_type": "display_data"
    }
   ],
   "source": [
    "dataset_dis_risk = risk_profile.distribution_of_risk_dataframe()\n",
    "dataset_dis_risk.plot(kind=\"bar\", x=\"interval\", title=\"Dataset Distribution of Risk\");"
   ]
  },
  {
   "cell_type": "markdown",
   "metadata": {},
   "source": [
    "## Anonymize\n",
    "If the dataset is not anonymous enough, we can attempt to anonymize it using PyARXaaS."
   ]
  },
  {
   "cell_type": "markdown",
   "metadata": {},
   "source": [
    "### Create generalization hierarchies\n",
    "Before we can attempt to anonymize the dataset we need to create generalization hierarchies for generalizing the quasiidentifying attributes."
   ]
  },
  {
   "cell_type": "markdown",
   "metadata": {},
   "source": [
    "### Alder"
   ]
  },
  {
   "cell_type": "markdown",
   "metadata": {},
   "source": [
    "#### Interval based hierarchies\n",
    "Interval based hierarchies are well suited for continuous numeric values. Attributes such as age, income or credit score are typically generalized with a interval based hierarchy. "
   ]
  },
  {
   "cell_type": "code",
   "execution_count": 256,
   "metadata": {},
   "outputs": [],
   "source": [
    "from pyaaas.hierarchy import IntervalHierarchyBuilder"
   ]
  },
  {
   "cell_type": "code",
   "execution_count": 257,
   "metadata": {},
   "outputs": [
    {
     "data": {
      "text/plain": [
       "[47, 30, 37, 52, 37]"
      ]
     },
     "execution_count": 257,
     "metadata": {},
     "output_type": "execute_result"
    }
   ],
   "source": [
    "ages = df[\"Alder\"].tolist()\n",
    "ages[:5]"
   ]
  },
  {
   "cell_type": "markdown",
   "metadata": {},
   "source": [
    "We import the IntervalHierarchyBuilder class from the hierarchy package."
   ]
  },
  {
   "cell_type": "code",
   "execution_count": 258,
   "metadata": {},
   "outputs": [],
   "source": [
    "iterval_builder = IntervalHierarchyBuilder()"
   ]
  },
  {
   "cell_type": "markdown",
   "metadata": {},
   "source": [
    "Add intervals to the builder. The intervals must be continuous(without gaps)"
   ]
  },
  {
   "cell_type": "code",
   "execution_count": 259,
   "metadata": {},
   "outputs": [],
   "source": [
    "iterval_builder.add_interval(0, 18)\n",
    "iterval_builder.add_interval(18, 30)\n",
    "iterval_builder.add_interval(30, 60)\n",
    "iterval_builder.add_interval(60, 120)"
   ]
  },
  {
   "cell_type": "markdown",
   "metadata": {},
   "source": [
    "(Optionally) Add groupings. Groupings are added to a specific level and are order based according to the interval order."
   ]
  },
  {
   "cell_type": "code",
   "execution_count": 324,
   "metadata": {},
   "outputs": [],
   "source": [
    "# Group the above intervals in order\n",
    "iterval_builder.level(0)\\\n",
    "                .add_group(2)\\\n",
    "                .add_group(2);"
   ]
  },
  {
   "cell_type": "markdown",
   "metadata": {},
   "source": [
    "Call the ARXaaS hierarchy method with the builder and dataset column to create the hierarchy"
   ]
  },
  {
   "cell_type": "code",
   "execution_count": 261,
   "metadata": {},
   "outputs": [],
   "source": [
    "age_hierarchy = arxaas.hierarchy(iterval_builder, ages)"
   ]
  },
  {
   "cell_type": "code",
   "execution_count": 262,
   "metadata": {},
   "outputs": [
    {
     "data": {
      "text/plain": [
       "[['47', '[30, 60[', '[30, 120[', '*'],\n",
       " ['30', '[30, 60[', '[30, 120[', '*'],\n",
       " ['37', '[30, 60[', '[30, 120[', '*'],\n",
       " ['52', '[30, 60[', '[30, 120[', '*'],\n",
       " ['37', '[30, 60[', '[30, 120[', '*'],\n",
       " ['30', '[30, 60[', '[30, 120[', '*'],\n",
       " ['42', '[30, 60[', '[30, 120[', '*'],\n",
       " ['39', '[30, 60[', '[30, 120[', '*'],\n",
       " ['37', '[30, 60[', '[30, 120[', '*'],\n",
       " ['42', '[30, 60[', '[30, 120[', '*']]"
      ]
     },
     "execution_count": 262,
     "metadata": {},
     "output_type": "execute_result"
    }
   ],
   "source": [
    "# Age hierarchy\n",
    "age_hierarchy[:10]"
   ]
  },
  {
   "cell_type": "markdown",
   "metadata": {},
   "source": [
    "### Sivilstatus"
   ]
  },
  {
   "cell_type": "markdown",
   "metadata": {},
   "source": [
    "#### Order based hierarchy\n",
    "\n",
    "OrderHierarchyBuilder are suited for categorical attributes. Attributes such as country, education level and employment status. Order based hierarchies are built using groupings with optional labeling. This means that grouping is completed on the list of values as it is. The list has to be sorted according to some ordering before a usable hierarchy can be made. "
   ]
  },
  {
   "cell_type": "code",
   "execution_count": 263,
   "metadata": {},
   "outputs": [],
   "source": [
    "from pyaaas.hierarchy import OrderHierarchyBuilder"
   ]
  },
  {
   "cell_type": "code",
   "execution_count": 264,
   "metadata": {},
   "outputs": [
    {
     "data": {
      "text/plain": [
       "['Enke', 'Gift', 'Skilt', 'Ugift', 'Ukjent']"
      ]
     },
     "execution_count": 264,
     "metadata": {},
     "output_type": "execute_result"
    }
   ],
   "source": [
    "s_statuses = sorted(df[\"Sivilstatus\"].unique().tolist())\n",
    "s_statuses"
   ]
  },
  {
   "cell_type": "code",
   "execution_count": 265,
   "metadata": {},
   "outputs": [],
   "source": [
    "s_status_hierarchy_builder = OrderHierarchyBuilder()"
   ]
  },
  {
   "cell_type": "markdown",
   "metadata": {},
   "source": [
    "#### Group the values \n",
    "Note that the groups are applied to the values as they are ordered in the list. Adding labels are optional, if labels are not set the resulting field will be a concatenation of the values included in the group."
   ]
  },
  {
   "cell_type": "code",
   "execution_count": 266,
   "metadata": {},
   "outputs": [],
   "source": [
    "s_status_hierarchy_builder.level(0)\\\n",
    "    .add_group(3, \"Har/er Gift\")\\\n",
    "    .add_group(2, \"Ugift/Ukjent\");"
   ]
  },
  {
   "cell_type": "markdown",
   "metadata": {},
   "source": [
    "Call the ARXaaS hierarchy method with the builder and dataset column to create the hierarchy"
   ]
  },
  {
   "cell_type": "code",
   "execution_count": 267,
   "metadata": {},
   "outputs": [],
   "source": [
    "s_status_hierarchy = arxaas.hierarchy(s_status_hierarchy_builder, s_statuses)"
   ]
  },
  {
   "cell_type": "code",
   "execution_count": 268,
   "metadata": {},
   "outputs": [
    {
     "data": {
      "text/plain": [
       "[['Enke', 'Har/er Gift', '*'],\n",
       " ['Gift', 'Har/er Gift', '*'],\n",
       " ['Skilt', 'Har/er Gift', '*'],\n",
       " ['Ugift', 'Ugift/Ukjent', '*'],\n",
       " ['Ukjent', 'Ugift/Ukjent', '*']]"
      ]
     },
     "execution_count": 268,
     "metadata": {},
     "output_type": "execute_result"
    }
   ],
   "source": [
    "s_status_hierarchy"
   ]
  },
  {
   "cell_type": "markdown",
   "metadata": {},
   "source": [
    "### Barn"
   ]
  },
  {
   "cell_type": "code",
   "execution_count": 269,
   "metadata": {},
   "outputs": [
    {
     "data": {
      "text/plain": [
       "count    5000.000000\n",
       "mean        1.987600\n",
       "std         1.036755\n",
       "min        -1.000000\n",
       "25%         1.000000\n",
       "50%         2.000000\n",
       "75%         3.000000\n",
       "max         5.000000\n",
       "Name: Barn, dtype: float64"
      ]
     },
     "execution_count": 269,
     "metadata": {},
     "output_type": "execute_result"
    }
   ],
   "source": [
    "# Decribe the DataFrame to understand the dataset extremes\n",
    "df[\"Barn\"].describe()"
   ]
  },
  {
   "cell_type": "code",
   "execution_count": 270,
   "metadata": {},
   "outputs": [],
   "source": [
    "n_children = df[\"Barn\"].unique().tolist()"
   ]
  },
  {
   "cell_type": "code",
   "execution_count": 271,
   "metadata": {},
   "outputs": [],
   "source": [
    "n_childern_hierarchy_builder = IntervalHierarchyBuilder()"
   ]
  },
  {
   "cell_type": "code",
   "execution_count": 272,
   "metadata": {},
   "outputs": [],
   "source": [
    "n_childern_hierarchy_builder.add_interval(-1, 1, \"barnlose\")\n",
    "n_childern_hierarchy_builder.add_interval(1, 3, \"har barn\")\n",
    "n_childern_hierarchy_builder.add_interval(3, 6, \"har mange barn\")"
   ]
  },
  {
   "cell_type": "code",
   "execution_count": 294,
   "metadata": {},
   "outputs": [],
   "source": [
    "n_childern_hierarchy_builder.level(0)\\\n",
    "    .add_group(1, \"barnlose\")\\\n",
    "    .add_group(2, \"har barn\");"
   ]
  },
  {
   "cell_type": "code",
   "execution_count": 295,
   "metadata": {},
   "outputs": [],
   "source": [
    "n_children_hierarchy = arxaas.hierarchy(n_childern_hierarchy_builder, n_children)"
   ]
  },
  {
   "cell_type": "code",
   "execution_count": 296,
   "metadata": {},
   "outputs": [
    {
     "data": {
      "text/plain": [
       "[['1', 'har barn', 'har barn', '*'],\n",
       " ['2', 'har barn', 'har barn', '*'],\n",
       " ['3', 'har mange barn', 'har barn', '*'],\n",
       " ['0', 'barnlose', 'barnlose', '*'],\n",
       " ['4', 'har mange barn', 'har barn', '*'],\n",
       " ['-1', 'barnlose', 'barnlose', '*'],\n",
       " ['5', 'har mange barn', 'har barn', '*']]"
      ]
     },
     "execution_count": 296,
     "metadata": {},
     "output_type": "execute_result"
    }
   ],
   "source": [
    "n_children_hierarchy"
   ]
  },
  {
   "cell_type": "markdown",
   "metadata": {},
   "source": [
    "### Utdanning"
   ]
  },
  {
   "cell_type": "code",
   "execution_count": 297,
   "metadata": {},
   "outputs": [
    {
     "data": {
      "text/plain": [
       "['Høyere utd over 4 år',\n",
       " 'Høyere utd inntil 4 år',\n",
       " 'Grunnskole',\n",
       " 'Ukjent',\n",
       " 'VGS']"
      ]
     },
     "execution_count": 297,
     "metadata": {},
     "output_type": "execute_result"
    }
   ],
   "source": [
    "educations = sorted(df[\"Utdanning\"].unique().tolist())\n",
    "# order values according to education level\n",
    "educations[0], educations[2] = educations[2], educations[0] \n",
    "educations"
   ]
  },
  {
   "cell_type": "code",
   "execution_count": 298,
   "metadata": {},
   "outputs": [],
   "source": [
    "education_hierarchy_builder = OrderHierarchyBuilder()"
   ]
  },
  {
   "cell_type": "code",
   "execution_count": 299,
   "metadata": {},
   "outputs": [],
   "source": [
    "education_hierarchy_builder.level(0)\\\n",
    "    .add_group(2, \"hoyere utdannelse\")\\\n",
    "    .add_group(3, \"Ukjent eller grunnutdannelse\");"
   ]
  },
  {
   "cell_type": "code",
   "execution_count": 300,
   "metadata": {},
   "outputs": [],
   "source": [
    "education_hierarchy = arxaas.hierarchy(education_hierarchy_builder, educations)"
   ]
  },
  {
   "cell_type": "code",
   "execution_count": 301,
   "metadata": {},
   "outputs": [
    {
     "data": {
      "text/plain": [
       "[['Høyere utd over 4 år', 'hoyere utdannelse', '*'],\n",
       " ['Høyere utd inntil 4 år', 'hoyere utdannelse', '*'],\n",
       " ['Grunnskole', 'Ukjent eller grunnutdannelse', '*'],\n",
       " ['Ukjent', 'Ukjent eller grunnutdannelse', '*'],\n",
       " ['VGS', 'Ukjent eller grunnutdannelse', '*']]"
      ]
     },
     "execution_count": 301,
     "metadata": {},
     "output_type": "execute_result"
    }
   ],
   "source": [
    "education_hierarchy"
   ]
  },
  {
   "cell_type": "markdown",
   "metadata": {},
   "source": [
    "### Read generalization hierarchies from file\n",
    "Note that if the hierarchy does not have a header row in the csv file, please set header=None in read_csv() or the first row will be interpreted as a header and ARXaaS will throw an exception for the missing hierarchy data."
   ]
  },
  {
   "cell_type": "code",
   "execution_count": 302,
   "metadata": {},
   "outputs": [],
   "source": [
    "ytelse_hierarchy = pd.read_csv(\"../../hierarchies/Ytelse_hierarchy.csv\", sep=\";\", header=None)\n",
    "innsatsgruppe_hierarchy = pd.read_csv(\"../../hierarchies/innsatsgruppe_hierarchy.csv\", sep=\";\", header=None)\n",
    "innvandrerbakgrunn_hierarchy = pd.read_csv(\"../../hierarchies/innvandrerbakgrunn_hierarchy.csv\", sep=\";\", header=None)\n",
    "ledighetsstatus_hierarchy = pd.read_csv(\"../../hierarchies/ledighetsstatus_hierarchy.csv\", sep=\";\", header=None)"
   ]
  },
  {
   "cell_type": "markdown",
   "metadata": {},
   "source": [
    "### Set hierarchies"
   ]
  },
  {
   "cell_type": "code",
   "execution_count": 303,
   "metadata": {},
   "outputs": [],
   "source": [
    "dataset.set_hierarchy('Ytelse', ytelse_hierarchy)\n",
    "dataset.set_hierarchy(\"Innsatsgruppe\", innsatsgruppe_hierarchy)\n",
    "dataset.set_hierarchy(\"Innvandrerbakgrunn\", innvandrerbakgrunn_hierarchy)\n",
    "dataset.set_hierarchy(\"Ledighetsstatus\", ledighetsstatus_hierarchy)\n",
    "dataset.set_hierarchy(\"Alder\", age_hierarchy)\n",
    "dataset.set_hierarchy(\"Sivilstatus\", s_status_hierarchy)\n",
    "dataset.set_hierarchy(\"Barn\", n_children_hierarchy)\n",
    "dataset.set_hierarchy(\"Utdanning\", education_hierarchy)"
   ]
  },
  {
   "cell_type": "markdown",
   "metadata": {},
   "source": [
    "### Create Privacy Models\n",
    "This well-known privacy model aims at protecting datasets from re-identification in the prosecutor model. A dataset is k-anonymous if each record cannot be distinguished from at least k-1 other records regarding the quasi-identifiers. Each group of indistinguishable records forms a so-called equivalence class."
   ]
  },
  {
   "cell_type": "code",
   "execution_count": 338,
   "metadata": {},
   "outputs": [],
   "source": [
    "kanon = KAnonymity(4)"
   ]
  },
  {
   "cell_type": "markdown",
   "metadata": {},
   "source": [
    "LDiversity privacy model can be used to protect data against attribute disclosure by ensuring that each sensitive attribute has at least ℓ \"well represented\" values in each equivalence class."
   ]
  },
  {
   "cell_type": "code",
   "execution_count": 339,
   "metadata": {},
   "outputs": [],
   "source": [
    "ldiv = LDiversityDistinct(2, \"Medisinsk forhold\")"
   ]
  },
  {
   "cell_type": "markdown",
   "metadata": {},
   "source": [
    "### With the hierarchies set we can attempt anonymization"
   ]
  },
  {
   "cell_type": "code",
   "execution_count": 340,
   "metadata": {},
   "outputs": [],
   "source": [
    "anon_result = arxaas.anonymize(dataset, [kanon, ldiv])"
   ]
  },
  {
   "cell_type": "code",
   "execution_count": 341,
   "metadata": {},
   "outputs": [
    {
     "data": {
      "text/html": [
       "<div>\n",
       "<style scoped>\n",
       "    .dataframe tbody tr th:only-of-type {\n",
       "        vertical-align: middle;\n",
       "    }\n",
       "\n",
       "    .dataframe tbody tr th {\n",
       "        vertical-align: top;\n",
       "    }\n",
       "\n",
       "    .dataframe thead th {\n",
       "        text-align: right;\n",
       "    }\n",
       "</style>\n",
       "<table border=\"1\" class=\"dataframe\">\n",
       "  <thead>\n",
       "    <tr style=\"text-align: right;\">\n",
       "      <th></th>\n",
       "      <th>Dummy_tag</th>\n",
       "      <th>ID</th>\n",
       "      <th>Navn</th>\n",
       "      <th>Alder</th>\n",
       "      <th>Sivilstatus</th>\n",
       "      <th>Barn</th>\n",
       "      <th>Innsatsgruppe</th>\n",
       "      <th>Innvandrerbakgrunn</th>\n",
       "      <th>Ledighetsstatus</th>\n",
       "      <th>Utdanning</th>\n",
       "      <th>Ytelse</th>\n",
       "      <th>Medisinsk forhold</th>\n",
       "    </tr>\n",
       "  </thead>\n",
       "  <tbody>\n",
       "    <tr>\n",
       "      <th>0</th>\n",
       "      <td>dummy_data</td>\n",
       "      <td>*</td>\n",
       "      <td>*</td>\n",
       "      <td>*</td>\n",
       "      <td>Ukjent</td>\n",
       "      <td>*</td>\n",
       "      <td>Spesielt tilpasset</td>\n",
       "      <td>*</td>\n",
       "      <td>Delvis ledig</td>\n",
       "      <td>Høyere utd inntil 4 år</td>\n",
       "      <td>*</td>\n",
       "      <td>Ingen</td>\n",
       "    </tr>\n",
       "    <tr>\n",
       "      <th>1</th>\n",
       "      <td>dummy_data</td>\n",
       "      <td>*</td>\n",
       "      <td>*</td>\n",
       "      <td>*</td>\n",
       "      <td>Gift</td>\n",
       "      <td>*</td>\n",
       "      <td>Varig tilpasset</td>\n",
       "      <td>*</td>\n",
       "      <td>ledig</td>\n",
       "      <td>Grunnskole</td>\n",
       "      <td>*</td>\n",
       "      <td>Ingen</td>\n",
       "    </tr>\n",
       "    <tr>\n",
       "      <th>2</th>\n",
       "      <td>dummy_data</td>\n",
       "      <td>*</td>\n",
       "      <td>*</td>\n",
       "      <td>*</td>\n",
       "      <td>Ukjent</td>\n",
       "      <td>*</td>\n",
       "      <td>Varig tilpasset</td>\n",
       "      <td>*</td>\n",
       "      <td>Delvis ledig</td>\n",
       "      <td>Grunnskole</td>\n",
       "      <td>*</td>\n",
       "      <td>Ingen</td>\n",
       "    </tr>\n",
       "    <tr>\n",
       "      <th>3</th>\n",
       "      <td>dummy_data</td>\n",
       "      <td>*</td>\n",
       "      <td>*</td>\n",
       "      <td>*</td>\n",
       "      <td>Ugift</td>\n",
       "      <td>*</td>\n",
       "      <td>Varig tilpasset</td>\n",
       "      <td>*</td>\n",
       "      <td>Delvis ledig</td>\n",
       "      <td>Høyere utd inntil 4 år</td>\n",
       "      <td>*</td>\n",
       "      <td>Ingen</td>\n",
       "    </tr>\n",
       "    <tr>\n",
       "      <th>4</th>\n",
       "      <td>dummy_data</td>\n",
       "      <td>*</td>\n",
       "      <td>*</td>\n",
       "      <td>*</td>\n",
       "      <td>Ukjent</td>\n",
       "      <td>*</td>\n",
       "      <td>Spesielt tilpasset</td>\n",
       "      <td>*</td>\n",
       "      <td>Delvis ledig</td>\n",
       "      <td>Høyere utd over 4 år</td>\n",
       "      <td>*</td>\n",
       "      <td>Ingen</td>\n",
       "    </tr>\n",
       "    <tr>\n",
       "      <th>5</th>\n",
       "      <td>dummy_data</td>\n",
       "      <td>*</td>\n",
       "      <td>*</td>\n",
       "      <td>*</td>\n",
       "      <td>Gift</td>\n",
       "      <td>*</td>\n",
       "      <td>Spesielt tilpasset</td>\n",
       "      <td>*</td>\n",
       "      <td>Delvis ledig</td>\n",
       "      <td>VGS</td>\n",
       "      <td>*</td>\n",
       "      <td>Ingen</td>\n",
       "    </tr>\n",
       "    <tr>\n",
       "      <th>6</th>\n",
       "      <td>dummy_data</td>\n",
       "      <td>*</td>\n",
       "      <td>*</td>\n",
       "      <td>*</td>\n",
       "      <td>Enke</td>\n",
       "      <td>*</td>\n",
       "      <td>Spesielt tilpasset</td>\n",
       "      <td>*</td>\n",
       "      <td>Delvis ledig</td>\n",
       "      <td>Høyere utd inntil 4 år</td>\n",
       "      <td>*</td>\n",
       "      <td>Ingen</td>\n",
       "    </tr>\n",
       "    <tr>\n",
       "      <th>7</th>\n",
       "      <td>dummy_data</td>\n",
       "      <td>*</td>\n",
       "      <td>*</td>\n",
       "      <td>*</td>\n",
       "      <td>Enke</td>\n",
       "      <td>*</td>\n",
       "      <td>Varig tilpasset</td>\n",
       "      <td>*</td>\n",
       "      <td>ledig</td>\n",
       "      <td>VGS</td>\n",
       "      <td>*</td>\n",
       "      <td>Ingen</td>\n",
       "    </tr>\n",
       "    <tr>\n",
       "      <th>8</th>\n",
       "      <td>dummy_data</td>\n",
       "      <td>*</td>\n",
       "      <td>*</td>\n",
       "      <td>*</td>\n",
       "      <td>Enke</td>\n",
       "      <td>*</td>\n",
       "      <td>Varig tilpasset</td>\n",
       "      <td>*</td>\n",
       "      <td>Delvis ledig</td>\n",
       "      <td>Grunnskole</td>\n",
       "      <td>*</td>\n",
       "      <td>Ingen</td>\n",
       "    </tr>\n",
       "    <tr>\n",
       "      <th>9</th>\n",
       "      <td>dummy_data</td>\n",
       "      <td>*</td>\n",
       "      <td>*</td>\n",
       "      <td>*</td>\n",
       "      <td>Gift</td>\n",
       "      <td>*</td>\n",
       "      <td>Varig tilpasset</td>\n",
       "      <td>*</td>\n",
       "      <td>ledig</td>\n",
       "      <td>Ukjent</td>\n",
       "      <td>*</td>\n",
       "      <td>Ingen</td>\n",
       "    </tr>\n",
       "    <tr>\n",
       "      <th>10</th>\n",
       "      <td>dummy_data</td>\n",
       "      <td>*</td>\n",
       "      <td>*</td>\n",
       "      <td>*</td>\n",
       "      <td>Enke</td>\n",
       "      <td>*</td>\n",
       "      <td>Varig tilpasset</td>\n",
       "      <td>*</td>\n",
       "      <td>ledig</td>\n",
       "      <td>Grunnskole</td>\n",
       "      <td>*</td>\n",
       "      <td>Ingen</td>\n",
       "    </tr>\n",
       "    <tr>\n",
       "      <th>11</th>\n",
       "      <td>dummy_data</td>\n",
       "      <td>*</td>\n",
       "      <td>*</td>\n",
       "      <td>*</td>\n",
       "      <td>Enke</td>\n",
       "      <td>*</td>\n",
       "      <td>Varig tilpasset</td>\n",
       "      <td>*</td>\n",
       "      <td>ledig</td>\n",
       "      <td>Høyere utd inntil 4 år</td>\n",
       "      <td>*</td>\n",
       "      <td>Ingen</td>\n",
       "    </tr>\n",
       "    <tr>\n",
       "      <th>12</th>\n",
       "      <td>dummy_data</td>\n",
       "      <td>*</td>\n",
       "      <td>*</td>\n",
       "      <td>*</td>\n",
       "      <td>Skilt</td>\n",
       "      <td>*</td>\n",
       "      <td>Varig tilpasset</td>\n",
       "      <td>*</td>\n",
       "      <td>ledig</td>\n",
       "      <td>VGS</td>\n",
       "      <td>*</td>\n",
       "      <td>Ingen</td>\n",
       "    </tr>\n",
       "    <tr>\n",
       "      <th>13</th>\n",
       "      <td>dummy_data</td>\n",
       "      <td>*</td>\n",
       "      <td>*</td>\n",
       "      <td>*</td>\n",
       "      <td>Skilt</td>\n",
       "      <td>*</td>\n",
       "      <td>Varig tilpasset</td>\n",
       "      <td>*</td>\n",
       "      <td>ledig</td>\n",
       "      <td>VGS</td>\n",
       "      <td>*</td>\n",
       "      <td>Artrose</td>\n",
       "    </tr>\n",
       "    <tr>\n",
       "      <th>14</th>\n",
       "      <td>dummy_data</td>\n",
       "      <td>*</td>\n",
       "      <td>*</td>\n",
       "      <td>*</td>\n",
       "      <td>Ugift</td>\n",
       "      <td>*</td>\n",
       "      <td>Varig tilpasset</td>\n",
       "      <td>*</td>\n",
       "      <td>Delvis ledig</td>\n",
       "      <td>VGS</td>\n",
       "      <td>*</td>\n",
       "      <td>Hjerteflimmer</td>\n",
       "    </tr>\n",
       "    <tr>\n",
       "      <th>15</th>\n",
       "      <td>dummy_data</td>\n",
       "      <td>*</td>\n",
       "      <td>*</td>\n",
       "      <td>*</td>\n",
       "      <td>Enke</td>\n",
       "      <td>*</td>\n",
       "      <td>Varig tilpasset</td>\n",
       "      <td>*</td>\n",
       "      <td>ledig</td>\n",
       "      <td>VGS</td>\n",
       "      <td>*</td>\n",
       "      <td>Ingen</td>\n",
       "    </tr>\n",
       "    <tr>\n",
       "      <th>16</th>\n",
       "      <td>dummy_data</td>\n",
       "      <td>*</td>\n",
       "      <td>*</td>\n",
       "      <td>*</td>\n",
       "      <td>Skilt</td>\n",
       "      <td>*</td>\n",
       "      <td>Varig tilpasset</td>\n",
       "      <td>*</td>\n",
       "      <td>ledig</td>\n",
       "      <td>Grunnskole</td>\n",
       "      <td>*</td>\n",
       "      <td>Ingen</td>\n",
       "    </tr>\n",
       "    <tr>\n",
       "      <th>17</th>\n",
       "      <td>dummy_data</td>\n",
       "      <td>*</td>\n",
       "      <td>*</td>\n",
       "      <td>*</td>\n",
       "      <td>Ukjent</td>\n",
       "      <td>*</td>\n",
       "      <td>Varig tilpasset</td>\n",
       "      <td>*</td>\n",
       "      <td>ledig</td>\n",
       "      <td>Høyere utd inntil 4 år</td>\n",
       "      <td>*</td>\n",
       "      <td>Hjerteflimmer</td>\n",
       "    </tr>\n",
       "    <tr>\n",
       "      <th>18</th>\n",
       "      <td>dummy_data</td>\n",
       "      <td>*</td>\n",
       "      <td>*</td>\n",
       "      <td>*</td>\n",
       "      <td>Enke</td>\n",
       "      <td>*</td>\n",
       "      <td>Varig tilpasset</td>\n",
       "      <td>*</td>\n",
       "      <td>ledig</td>\n",
       "      <td>Ukjent</td>\n",
       "      <td>*</td>\n",
       "      <td>Ingen</td>\n",
       "    </tr>\n",
       "    <tr>\n",
       "      <th>19</th>\n",
       "      <td>dummy_data</td>\n",
       "      <td>*</td>\n",
       "      <td>*</td>\n",
       "      <td>*</td>\n",
       "      <td>Ukjent</td>\n",
       "      <td>*</td>\n",
       "      <td>Varig tilpasset</td>\n",
       "      <td>*</td>\n",
       "      <td>ledig</td>\n",
       "      <td>VGS</td>\n",
       "      <td>*</td>\n",
       "      <td>Ingen</td>\n",
       "    </tr>\n",
       "    <tr>\n",
       "      <th>20</th>\n",
       "      <td>dummy_data</td>\n",
       "      <td>*</td>\n",
       "      <td>*</td>\n",
       "      <td>*</td>\n",
       "      <td>Skilt</td>\n",
       "      <td>*</td>\n",
       "      <td>Spesielt tilpasset</td>\n",
       "      <td>*</td>\n",
       "      <td>ledig</td>\n",
       "      <td>VGS</td>\n",
       "      <td>*</td>\n",
       "      <td>Ingen</td>\n",
       "    </tr>\n",
       "    <tr>\n",
       "      <th>21</th>\n",
       "      <td>dummy_data</td>\n",
       "      <td>*</td>\n",
       "      <td>*</td>\n",
       "      <td>*</td>\n",
       "      <td>Gift</td>\n",
       "      <td>*</td>\n",
       "      <td>Varig tilpasset</td>\n",
       "      <td>*</td>\n",
       "      <td>ledig</td>\n",
       "      <td>VGS</td>\n",
       "      <td>*</td>\n",
       "      <td>Ingen</td>\n",
       "    </tr>\n",
       "    <tr>\n",
       "      <th>22</th>\n",
       "      <td>dummy_data</td>\n",
       "      <td>*</td>\n",
       "      <td>*</td>\n",
       "      <td>*</td>\n",
       "      <td>Enke</td>\n",
       "      <td>*</td>\n",
       "      <td>Spesielt tilpasset</td>\n",
       "      <td>*</td>\n",
       "      <td>ledig</td>\n",
       "      <td>Høyere utd over 4 år</td>\n",
       "      <td>*</td>\n",
       "      <td>Ingen</td>\n",
       "    </tr>\n",
       "    <tr>\n",
       "      <th>23</th>\n",
       "      <td>dummy_data</td>\n",
       "      <td>*</td>\n",
       "      <td>*</td>\n",
       "      <td>*</td>\n",
       "      <td>Ugift</td>\n",
       "      <td>*</td>\n",
       "      <td>Varig tilpasset</td>\n",
       "      <td>*</td>\n",
       "      <td>ledig</td>\n",
       "      <td>Ukjent</td>\n",
       "      <td>*</td>\n",
       "      <td>Artrose</td>\n",
       "    </tr>\n",
       "    <tr>\n",
       "      <th>24</th>\n",
       "      <td>dummy_data</td>\n",
       "      <td>*</td>\n",
       "      <td>*</td>\n",
       "      <td>*</td>\n",
       "      <td>Enke</td>\n",
       "      <td>*</td>\n",
       "      <td>Varig tilpasset</td>\n",
       "      <td>*</td>\n",
       "      <td>ledig</td>\n",
       "      <td>VGS</td>\n",
       "      <td>*</td>\n",
       "      <td>Ingen</td>\n",
       "    </tr>\n",
       "    <tr>\n",
       "      <th>25</th>\n",
       "      <td>dummy_data</td>\n",
       "      <td>*</td>\n",
       "      <td>*</td>\n",
       "      <td>*</td>\n",
       "      <td>Gift</td>\n",
       "      <td>*</td>\n",
       "      <td>Spesielt tilpasset</td>\n",
       "      <td>*</td>\n",
       "      <td>Delvis ledig</td>\n",
       "      <td>Høyere utd over 4 år</td>\n",
       "      <td>*</td>\n",
       "      <td>Hjerteflimmer</td>\n",
       "    </tr>\n",
       "    <tr>\n",
       "      <th>26</th>\n",
       "      <td>dummy_data</td>\n",
       "      <td>*</td>\n",
       "      <td>*</td>\n",
       "      <td>*</td>\n",
       "      <td>Gift</td>\n",
       "      <td>*</td>\n",
       "      <td>Varig tilpasset</td>\n",
       "      <td>*</td>\n",
       "      <td>ledig</td>\n",
       "      <td>Høyere utd inntil 4 år</td>\n",
       "      <td>*</td>\n",
       "      <td>Diabetes</td>\n",
       "    </tr>\n",
       "    <tr>\n",
       "      <th>27</th>\n",
       "      <td>dummy_data</td>\n",
       "      <td>*</td>\n",
       "      <td>*</td>\n",
       "      <td>*</td>\n",
       "      <td>Ukjent</td>\n",
       "      <td>*</td>\n",
       "      <td>Varig tilpasset</td>\n",
       "      <td>*</td>\n",
       "      <td>ledig</td>\n",
       "      <td>VGS</td>\n",
       "      <td>*</td>\n",
       "      <td>Ingen</td>\n",
       "    </tr>\n",
       "    <tr>\n",
       "      <th>28</th>\n",
       "      <td>dummy_data</td>\n",
       "      <td>*</td>\n",
       "      <td>*</td>\n",
       "      <td>*</td>\n",
       "      <td>Skilt</td>\n",
       "      <td>*</td>\n",
       "      <td>Varig tilpasset</td>\n",
       "      <td>*</td>\n",
       "      <td>Delvis ledig</td>\n",
       "      <td>Høyere utd inntil 4 år</td>\n",
       "      <td>*</td>\n",
       "      <td>Ingen</td>\n",
       "    </tr>\n",
       "    <tr>\n",
       "      <th>29</th>\n",
       "      <td>dummy_data</td>\n",
       "      <td>*</td>\n",
       "      <td>*</td>\n",
       "      <td>*</td>\n",
       "      <td>Enke</td>\n",
       "      <td>*</td>\n",
       "      <td>Varig tilpasset</td>\n",
       "      <td>*</td>\n",
       "      <td>Delvis ledig</td>\n",
       "      <td>Høyere utd over 4 år</td>\n",
       "      <td>*</td>\n",
       "      <td>Ingen</td>\n",
       "    </tr>\n",
       "    <tr>\n",
       "      <th>...</th>\n",
       "      <td>...</td>\n",
       "      <td>...</td>\n",
       "      <td>...</td>\n",
       "      <td>...</td>\n",
       "      <td>...</td>\n",
       "      <td>...</td>\n",
       "      <td>...</td>\n",
       "      <td>...</td>\n",
       "      <td>...</td>\n",
       "      <td>...</td>\n",
       "      <td>...</td>\n",
       "      <td>...</td>\n",
       "    </tr>\n",
       "    <tr>\n",
       "      <th>4970</th>\n",
       "      <td>dummy_data</td>\n",
       "      <td>*</td>\n",
       "      <td>*</td>\n",
       "      <td>*</td>\n",
       "      <td>Gift</td>\n",
       "      <td>*</td>\n",
       "      <td>Varig tilpasset</td>\n",
       "      <td>*</td>\n",
       "      <td>Delvis ledig</td>\n",
       "      <td>VGS</td>\n",
       "      <td>*</td>\n",
       "      <td>Ingen</td>\n",
       "    </tr>\n",
       "    <tr>\n",
       "      <th>4971</th>\n",
       "      <td>dummy_data</td>\n",
       "      <td>*</td>\n",
       "      <td>*</td>\n",
       "      <td>*</td>\n",
       "      <td>Gift</td>\n",
       "      <td>*</td>\n",
       "      <td>Varig tilpasset</td>\n",
       "      <td>*</td>\n",
       "      <td>ledig</td>\n",
       "      <td>VGS</td>\n",
       "      <td>*</td>\n",
       "      <td>Ingen</td>\n",
       "    </tr>\n",
       "    <tr>\n",
       "      <th>4972</th>\n",
       "      <td>dummy_data</td>\n",
       "      <td>*</td>\n",
       "      <td>*</td>\n",
       "      <td>*</td>\n",
       "      <td>Enke</td>\n",
       "      <td>*</td>\n",
       "      <td>Varig tilpasset</td>\n",
       "      <td>*</td>\n",
       "      <td>Delvis ledig</td>\n",
       "      <td>VGS</td>\n",
       "      <td>*</td>\n",
       "      <td>Ingen</td>\n",
       "    </tr>\n",
       "    <tr>\n",
       "      <th>4973</th>\n",
       "      <td>dummy_data</td>\n",
       "      <td>*</td>\n",
       "      <td>*</td>\n",
       "      <td>*</td>\n",
       "      <td>Enke</td>\n",
       "      <td>*</td>\n",
       "      <td>Varig tilpasset</td>\n",
       "      <td>*</td>\n",
       "      <td>ledig</td>\n",
       "      <td>Ukjent</td>\n",
       "      <td>*</td>\n",
       "      <td>Ingen</td>\n",
       "    </tr>\n",
       "    <tr>\n",
       "      <th>4974</th>\n",
       "      <td>dummy_data</td>\n",
       "      <td>*</td>\n",
       "      <td>*</td>\n",
       "      <td>*</td>\n",
       "      <td>Skilt</td>\n",
       "      <td>*</td>\n",
       "      <td>Varig tilpasset</td>\n",
       "      <td>*</td>\n",
       "      <td>ledig</td>\n",
       "      <td>Høyere utd over 4 år</td>\n",
       "      <td>*</td>\n",
       "      <td>Hjerteflimmer</td>\n",
       "    </tr>\n",
       "    <tr>\n",
       "      <th>4975</th>\n",
       "      <td>dummy_data</td>\n",
       "      <td>*</td>\n",
       "      <td>*</td>\n",
       "      <td>*</td>\n",
       "      <td>Skilt</td>\n",
       "      <td>*</td>\n",
       "      <td>Varig tilpasset</td>\n",
       "      <td>*</td>\n",
       "      <td>ledig</td>\n",
       "      <td>Høyere utd inntil 4 år</td>\n",
       "      <td>*</td>\n",
       "      <td>Artrose</td>\n",
       "    </tr>\n",
       "    <tr>\n",
       "      <th>4976</th>\n",
       "      <td>dummy_data</td>\n",
       "      <td>*</td>\n",
       "      <td>*</td>\n",
       "      <td>*</td>\n",
       "      <td>Skilt</td>\n",
       "      <td>*</td>\n",
       "      <td>Varig tilpasset</td>\n",
       "      <td>*</td>\n",
       "      <td>ledig</td>\n",
       "      <td>VGS</td>\n",
       "      <td>*</td>\n",
       "      <td>Artrose</td>\n",
       "    </tr>\n",
       "    <tr>\n",
       "      <th>4977</th>\n",
       "      <td>dummy_data</td>\n",
       "      <td>*</td>\n",
       "      <td>*</td>\n",
       "      <td>*</td>\n",
       "      <td>Skilt</td>\n",
       "      <td>*</td>\n",
       "      <td>Varig tilpasset</td>\n",
       "      <td>*</td>\n",
       "      <td>ledig</td>\n",
       "      <td>VGS</td>\n",
       "      <td>*</td>\n",
       "      <td>Ingen</td>\n",
       "    </tr>\n",
       "    <tr>\n",
       "      <th>4978</th>\n",
       "      <td>dummy_data</td>\n",
       "      <td>*</td>\n",
       "      <td>*</td>\n",
       "      <td>*</td>\n",
       "      <td>Enke</td>\n",
       "      <td>*</td>\n",
       "      <td>Spesielt tilpasset</td>\n",
       "      <td>*</td>\n",
       "      <td>ledig</td>\n",
       "      <td>Høyere utd inntil 4 år</td>\n",
       "      <td>*</td>\n",
       "      <td>Ingen</td>\n",
       "    </tr>\n",
       "    <tr>\n",
       "      <th>4979</th>\n",
       "      <td>dummy_data</td>\n",
       "      <td>*</td>\n",
       "      <td>*</td>\n",
       "      <td>*</td>\n",
       "      <td>Skilt</td>\n",
       "      <td>*</td>\n",
       "      <td>Spesielt tilpasset</td>\n",
       "      <td>*</td>\n",
       "      <td>ledig</td>\n",
       "      <td>Høyere utd inntil 4 år</td>\n",
       "      <td>*</td>\n",
       "      <td>Diabetes</td>\n",
       "    </tr>\n",
       "    <tr>\n",
       "      <th>4980</th>\n",
       "      <td>dummy_data</td>\n",
       "      <td>*</td>\n",
       "      <td>*</td>\n",
       "      <td>*</td>\n",
       "      <td>Skilt</td>\n",
       "      <td>*</td>\n",
       "      <td>Spesielt tilpasset</td>\n",
       "      <td>*</td>\n",
       "      <td>ledig</td>\n",
       "      <td>VGS</td>\n",
       "      <td>*</td>\n",
       "      <td>Artrose</td>\n",
       "    </tr>\n",
       "    <tr>\n",
       "      <th>4981</th>\n",
       "      <td>dummy_data</td>\n",
       "      <td>*</td>\n",
       "      <td>*</td>\n",
       "      <td>*</td>\n",
       "      <td>Ukjent</td>\n",
       "      <td>*</td>\n",
       "      <td>Spesielt tilpasset</td>\n",
       "      <td>*</td>\n",
       "      <td>Delvis ledig</td>\n",
       "      <td>Høyere utd over 4 år</td>\n",
       "      <td>*</td>\n",
       "      <td>Ingen</td>\n",
       "    </tr>\n",
       "    <tr>\n",
       "      <th>4982</th>\n",
       "      <td>dummy_data</td>\n",
       "      <td>*</td>\n",
       "      <td>*</td>\n",
       "      <td>*</td>\n",
       "      <td>Gift</td>\n",
       "      <td>*</td>\n",
       "      <td>Varig tilpasset</td>\n",
       "      <td>*</td>\n",
       "      <td>Delvis ledig</td>\n",
       "      <td>Høyere utd inntil 4 år</td>\n",
       "      <td>*</td>\n",
       "      <td>Ingen</td>\n",
       "    </tr>\n",
       "    <tr>\n",
       "      <th>4983</th>\n",
       "      <td>dummy_data</td>\n",
       "      <td>*</td>\n",
       "      <td>*</td>\n",
       "      <td>*</td>\n",
       "      <td>Gift</td>\n",
       "      <td>*</td>\n",
       "      <td>Varig tilpasset</td>\n",
       "      <td>*</td>\n",
       "      <td>ledig</td>\n",
       "      <td>VGS</td>\n",
       "      <td>*</td>\n",
       "      <td>Ingen</td>\n",
       "    </tr>\n",
       "    <tr>\n",
       "      <th>4984</th>\n",
       "      <td>dummy_data</td>\n",
       "      <td>*</td>\n",
       "      <td>*</td>\n",
       "      <td>*</td>\n",
       "      <td>Ukjent</td>\n",
       "      <td>*</td>\n",
       "      <td>Varig tilpasset</td>\n",
       "      <td>*</td>\n",
       "      <td>ledig</td>\n",
       "      <td>Høyere utd inntil 4 år</td>\n",
       "      <td>*</td>\n",
       "      <td>Artrose</td>\n",
       "    </tr>\n",
       "    <tr>\n",
       "      <th>4985</th>\n",
       "      <td>dummy_data</td>\n",
       "      <td>*</td>\n",
       "      <td>*</td>\n",
       "      <td>*</td>\n",
       "      <td>Ugift</td>\n",
       "      <td>*</td>\n",
       "      <td>Varig tilpasset</td>\n",
       "      <td>*</td>\n",
       "      <td>ledig</td>\n",
       "      <td>Høyere utd inntil 4 år</td>\n",
       "      <td>*</td>\n",
       "      <td>Ingen</td>\n",
       "    </tr>\n",
       "    <tr>\n",
       "      <th>4986</th>\n",
       "      <td>dummy_data</td>\n",
       "      <td>*</td>\n",
       "      <td>*</td>\n",
       "      <td>*</td>\n",
       "      <td>Ukjent</td>\n",
       "      <td>*</td>\n",
       "      <td>Varig tilpasset</td>\n",
       "      <td>*</td>\n",
       "      <td>ledig</td>\n",
       "      <td>Høyere utd inntil 4 år</td>\n",
       "      <td>*</td>\n",
       "      <td>Ingen</td>\n",
       "    </tr>\n",
       "    <tr>\n",
       "      <th>4987</th>\n",
       "      <td>dummy_data</td>\n",
       "      <td>*</td>\n",
       "      <td>*</td>\n",
       "      <td>*</td>\n",
       "      <td>Skilt</td>\n",
       "      <td>*</td>\n",
       "      <td>Varig tilpasset</td>\n",
       "      <td>*</td>\n",
       "      <td>Delvis ledig</td>\n",
       "      <td>VGS</td>\n",
       "      <td>*</td>\n",
       "      <td>Ingen</td>\n",
       "    </tr>\n",
       "    <tr>\n",
       "      <th>4988</th>\n",
       "      <td>dummy_data</td>\n",
       "      <td>*</td>\n",
       "      <td>*</td>\n",
       "      <td>*</td>\n",
       "      <td>Enke</td>\n",
       "      <td>*</td>\n",
       "      <td>Spesielt tilpasset</td>\n",
       "      <td>*</td>\n",
       "      <td>ledig</td>\n",
       "      <td>VGS</td>\n",
       "      <td>*</td>\n",
       "      <td>Ingen</td>\n",
       "    </tr>\n",
       "    <tr>\n",
       "      <th>4989</th>\n",
       "      <td>dummy_data</td>\n",
       "      <td>*</td>\n",
       "      <td>*</td>\n",
       "      <td>*</td>\n",
       "      <td>Ukjent</td>\n",
       "      <td>*</td>\n",
       "      <td>Varig tilpasset</td>\n",
       "      <td>*</td>\n",
       "      <td>ledig</td>\n",
       "      <td>Høyere utd over 4 år</td>\n",
       "      <td>*</td>\n",
       "      <td>Hjerteflimmer</td>\n",
       "    </tr>\n",
       "    <tr>\n",
       "      <th>4990</th>\n",
       "      <td>dummy_data</td>\n",
       "      <td>*</td>\n",
       "      <td>*</td>\n",
       "      <td>*</td>\n",
       "      <td>Gift</td>\n",
       "      <td>*</td>\n",
       "      <td>Varig tilpasset</td>\n",
       "      <td>*</td>\n",
       "      <td>ledig</td>\n",
       "      <td>Høyere utd over 4 år</td>\n",
       "      <td>*</td>\n",
       "      <td>Ingen</td>\n",
       "    </tr>\n",
       "    <tr>\n",
       "      <th>4991</th>\n",
       "      <td>dummy_data</td>\n",
       "      <td>*</td>\n",
       "      <td>*</td>\n",
       "      <td>*</td>\n",
       "      <td>Enke</td>\n",
       "      <td>*</td>\n",
       "      <td>Varig tilpasset</td>\n",
       "      <td>*</td>\n",
       "      <td>ledig</td>\n",
       "      <td>VGS</td>\n",
       "      <td>*</td>\n",
       "      <td>Ingen</td>\n",
       "    </tr>\n",
       "    <tr>\n",
       "      <th>4992</th>\n",
       "      <td>dummy_data</td>\n",
       "      <td>*</td>\n",
       "      <td>*</td>\n",
       "      <td>*</td>\n",
       "      <td>Gift</td>\n",
       "      <td>*</td>\n",
       "      <td>Varig tilpasset</td>\n",
       "      <td>*</td>\n",
       "      <td>ledig</td>\n",
       "      <td>Høyere utd over 4 år</td>\n",
       "      <td>*</td>\n",
       "      <td>Ingen</td>\n",
       "    </tr>\n",
       "    <tr>\n",
       "      <th>4993</th>\n",
       "      <td>dummy_data</td>\n",
       "      <td>*</td>\n",
       "      <td>*</td>\n",
       "      <td>*</td>\n",
       "      <td>Ugift</td>\n",
       "      <td>*</td>\n",
       "      <td>Varig tilpasset</td>\n",
       "      <td>*</td>\n",
       "      <td>Delvis ledig</td>\n",
       "      <td>Høyere utd inntil 4 år</td>\n",
       "      <td>*</td>\n",
       "      <td>Diabetes</td>\n",
       "    </tr>\n",
       "    <tr>\n",
       "      <th>4994</th>\n",
       "      <td>dummy_data</td>\n",
       "      <td>*</td>\n",
       "      <td>*</td>\n",
       "      <td>*</td>\n",
       "      <td>Ukjent</td>\n",
       "      <td>*</td>\n",
       "      <td>Varig tilpasset</td>\n",
       "      <td>*</td>\n",
       "      <td>ledig</td>\n",
       "      <td>Ukjent</td>\n",
       "      <td>*</td>\n",
       "      <td>Ingen</td>\n",
       "    </tr>\n",
       "    <tr>\n",
       "      <th>4995</th>\n",
       "      <td>dummy_data</td>\n",
       "      <td>*</td>\n",
       "      <td>*</td>\n",
       "      <td>*</td>\n",
       "      <td>Enke</td>\n",
       "      <td>*</td>\n",
       "      <td>Varig tilpasset</td>\n",
       "      <td>*</td>\n",
       "      <td>Delvis ledig</td>\n",
       "      <td>VGS</td>\n",
       "      <td>*</td>\n",
       "      <td>Diabetes</td>\n",
       "    </tr>\n",
       "    <tr>\n",
       "      <th>4996</th>\n",
       "      <td>dummy_data</td>\n",
       "      <td>*</td>\n",
       "      <td>*</td>\n",
       "      <td>*</td>\n",
       "      <td>Skilt</td>\n",
       "      <td>*</td>\n",
       "      <td>Spesielt tilpasset</td>\n",
       "      <td>*</td>\n",
       "      <td>ledig</td>\n",
       "      <td>Høyere utd inntil 4 år</td>\n",
       "      <td>*</td>\n",
       "      <td>Ingen</td>\n",
       "    </tr>\n",
       "    <tr>\n",
       "      <th>4997</th>\n",
       "      <td>dummy_data</td>\n",
       "      <td>*</td>\n",
       "      <td>*</td>\n",
       "      <td>*</td>\n",
       "      <td>Skilt</td>\n",
       "      <td>*</td>\n",
       "      <td>Varig tilpasset</td>\n",
       "      <td>*</td>\n",
       "      <td>ledig</td>\n",
       "      <td>VGS</td>\n",
       "      <td>*</td>\n",
       "      <td>Ingen</td>\n",
       "    </tr>\n",
       "    <tr>\n",
       "      <th>4998</th>\n",
       "      <td>dummy_data</td>\n",
       "      <td>*</td>\n",
       "      <td>*</td>\n",
       "      <td>*</td>\n",
       "      <td>Gift</td>\n",
       "      <td>*</td>\n",
       "      <td>Spesielt tilpasset</td>\n",
       "      <td>*</td>\n",
       "      <td>ledig</td>\n",
       "      <td>VGS</td>\n",
       "      <td>*</td>\n",
       "      <td>Ingen</td>\n",
       "    </tr>\n",
       "    <tr>\n",
       "      <th>4999</th>\n",
       "      <td>dummy_data</td>\n",
       "      <td>*</td>\n",
       "      <td>*</td>\n",
       "      <td>*</td>\n",
       "      <td>Skilt</td>\n",
       "      <td>*</td>\n",
       "      <td>Spesielt tilpasset</td>\n",
       "      <td>*</td>\n",
       "      <td>ledig</td>\n",
       "      <td>VGS</td>\n",
       "      <td>*</td>\n",
       "      <td>Ingen</td>\n",
       "    </tr>\n",
       "  </tbody>\n",
       "</table>\n",
       "<p>5000 rows × 12 columns</p>\n",
       "</div>"
      ],
      "text/plain": [
       "       Dummy_tag ID Navn Alder Sivilstatus Barn       Innsatsgruppe  \\\n",
       "0     dummy_data  *    *     *      Ukjent    *  Spesielt tilpasset   \n",
       "1     dummy_data  *    *     *        Gift    *     Varig tilpasset   \n",
       "2     dummy_data  *    *     *      Ukjent    *     Varig tilpasset   \n",
       "3     dummy_data  *    *     *       Ugift    *     Varig tilpasset   \n",
       "4     dummy_data  *    *     *      Ukjent    *  Spesielt tilpasset   \n",
       "5     dummy_data  *    *     *        Gift    *  Spesielt tilpasset   \n",
       "6     dummy_data  *    *     *        Enke    *  Spesielt tilpasset   \n",
       "7     dummy_data  *    *     *        Enke    *     Varig tilpasset   \n",
       "8     dummy_data  *    *     *        Enke    *     Varig tilpasset   \n",
       "9     dummy_data  *    *     *        Gift    *     Varig tilpasset   \n",
       "10    dummy_data  *    *     *        Enke    *     Varig tilpasset   \n",
       "11    dummy_data  *    *     *        Enke    *     Varig tilpasset   \n",
       "12    dummy_data  *    *     *       Skilt    *     Varig tilpasset   \n",
       "13    dummy_data  *    *     *       Skilt    *     Varig tilpasset   \n",
       "14    dummy_data  *    *     *       Ugift    *     Varig tilpasset   \n",
       "15    dummy_data  *    *     *        Enke    *     Varig tilpasset   \n",
       "16    dummy_data  *    *     *       Skilt    *     Varig tilpasset   \n",
       "17    dummy_data  *    *     *      Ukjent    *     Varig tilpasset   \n",
       "18    dummy_data  *    *     *        Enke    *     Varig tilpasset   \n",
       "19    dummy_data  *    *     *      Ukjent    *     Varig tilpasset   \n",
       "20    dummy_data  *    *     *       Skilt    *  Spesielt tilpasset   \n",
       "21    dummy_data  *    *     *        Gift    *     Varig tilpasset   \n",
       "22    dummy_data  *    *     *        Enke    *  Spesielt tilpasset   \n",
       "23    dummy_data  *    *     *       Ugift    *     Varig tilpasset   \n",
       "24    dummy_data  *    *     *        Enke    *     Varig tilpasset   \n",
       "25    dummy_data  *    *     *        Gift    *  Spesielt tilpasset   \n",
       "26    dummy_data  *    *     *        Gift    *     Varig tilpasset   \n",
       "27    dummy_data  *    *     *      Ukjent    *     Varig tilpasset   \n",
       "28    dummy_data  *    *     *       Skilt    *     Varig tilpasset   \n",
       "29    dummy_data  *    *     *        Enke    *     Varig tilpasset   \n",
       "...          ... ..  ...   ...         ...  ...                 ...   \n",
       "4970  dummy_data  *    *     *        Gift    *     Varig tilpasset   \n",
       "4971  dummy_data  *    *     *        Gift    *     Varig tilpasset   \n",
       "4972  dummy_data  *    *     *        Enke    *     Varig tilpasset   \n",
       "4973  dummy_data  *    *     *        Enke    *     Varig tilpasset   \n",
       "4974  dummy_data  *    *     *       Skilt    *     Varig tilpasset   \n",
       "4975  dummy_data  *    *     *       Skilt    *     Varig tilpasset   \n",
       "4976  dummy_data  *    *     *       Skilt    *     Varig tilpasset   \n",
       "4977  dummy_data  *    *     *       Skilt    *     Varig tilpasset   \n",
       "4978  dummy_data  *    *     *        Enke    *  Spesielt tilpasset   \n",
       "4979  dummy_data  *    *     *       Skilt    *  Spesielt tilpasset   \n",
       "4980  dummy_data  *    *     *       Skilt    *  Spesielt tilpasset   \n",
       "4981  dummy_data  *    *     *      Ukjent    *  Spesielt tilpasset   \n",
       "4982  dummy_data  *    *     *        Gift    *     Varig tilpasset   \n",
       "4983  dummy_data  *    *     *        Gift    *     Varig tilpasset   \n",
       "4984  dummy_data  *    *     *      Ukjent    *     Varig tilpasset   \n",
       "4985  dummy_data  *    *     *       Ugift    *     Varig tilpasset   \n",
       "4986  dummy_data  *    *     *      Ukjent    *     Varig tilpasset   \n",
       "4987  dummy_data  *    *     *       Skilt    *     Varig tilpasset   \n",
       "4988  dummy_data  *    *     *        Enke    *  Spesielt tilpasset   \n",
       "4989  dummy_data  *    *     *      Ukjent    *     Varig tilpasset   \n",
       "4990  dummy_data  *    *     *        Gift    *     Varig tilpasset   \n",
       "4991  dummy_data  *    *     *        Enke    *     Varig tilpasset   \n",
       "4992  dummy_data  *    *     *        Gift    *     Varig tilpasset   \n",
       "4993  dummy_data  *    *     *       Ugift    *     Varig tilpasset   \n",
       "4994  dummy_data  *    *     *      Ukjent    *     Varig tilpasset   \n",
       "4995  dummy_data  *    *     *        Enke    *     Varig tilpasset   \n",
       "4996  dummy_data  *    *     *       Skilt    *  Spesielt tilpasset   \n",
       "4997  dummy_data  *    *     *       Skilt    *     Varig tilpasset   \n",
       "4998  dummy_data  *    *     *        Gift    *  Spesielt tilpasset   \n",
       "4999  dummy_data  *    *     *       Skilt    *  Spesielt tilpasset   \n",
       "\n",
       "     Innvandrerbakgrunn Ledighetsstatus               Utdanning Ytelse  \\\n",
       "0                     *    Delvis ledig  Høyere utd inntil 4 år      *   \n",
       "1                     *           ledig              Grunnskole      *   \n",
       "2                     *    Delvis ledig              Grunnskole      *   \n",
       "3                     *    Delvis ledig  Høyere utd inntil 4 år      *   \n",
       "4                     *    Delvis ledig    Høyere utd over 4 år      *   \n",
       "5                     *    Delvis ledig                     VGS      *   \n",
       "6                     *    Delvis ledig  Høyere utd inntil 4 år      *   \n",
       "7                     *           ledig                     VGS      *   \n",
       "8                     *    Delvis ledig              Grunnskole      *   \n",
       "9                     *           ledig                  Ukjent      *   \n",
       "10                    *           ledig              Grunnskole      *   \n",
       "11                    *           ledig  Høyere utd inntil 4 år      *   \n",
       "12                    *           ledig                     VGS      *   \n",
       "13                    *           ledig                     VGS      *   \n",
       "14                    *    Delvis ledig                     VGS      *   \n",
       "15                    *           ledig                     VGS      *   \n",
       "16                    *           ledig              Grunnskole      *   \n",
       "17                    *           ledig  Høyere utd inntil 4 år      *   \n",
       "18                    *           ledig                  Ukjent      *   \n",
       "19                    *           ledig                     VGS      *   \n",
       "20                    *           ledig                     VGS      *   \n",
       "21                    *           ledig                     VGS      *   \n",
       "22                    *           ledig    Høyere utd over 4 år      *   \n",
       "23                    *           ledig                  Ukjent      *   \n",
       "24                    *           ledig                     VGS      *   \n",
       "25                    *    Delvis ledig    Høyere utd over 4 år      *   \n",
       "26                    *           ledig  Høyere utd inntil 4 år      *   \n",
       "27                    *           ledig                     VGS      *   \n",
       "28                    *    Delvis ledig  Høyere utd inntil 4 år      *   \n",
       "29                    *    Delvis ledig    Høyere utd over 4 år      *   \n",
       "...                 ...             ...                     ...    ...   \n",
       "4970                  *    Delvis ledig                     VGS      *   \n",
       "4971                  *           ledig                     VGS      *   \n",
       "4972                  *    Delvis ledig                     VGS      *   \n",
       "4973                  *           ledig                  Ukjent      *   \n",
       "4974                  *           ledig    Høyere utd over 4 år      *   \n",
       "4975                  *           ledig  Høyere utd inntil 4 år      *   \n",
       "4976                  *           ledig                     VGS      *   \n",
       "4977                  *           ledig                     VGS      *   \n",
       "4978                  *           ledig  Høyere utd inntil 4 år      *   \n",
       "4979                  *           ledig  Høyere utd inntil 4 år      *   \n",
       "4980                  *           ledig                     VGS      *   \n",
       "4981                  *    Delvis ledig    Høyere utd over 4 år      *   \n",
       "4982                  *    Delvis ledig  Høyere utd inntil 4 år      *   \n",
       "4983                  *           ledig                     VGS      *   \n",
       "4984                  *           ledig  Høyere utd inntil 4 år      *   \n",
       "4985                  *           ledig  Høyere utd inntil 4 år      *   \n",
       "4986                  *           ledig  Høyere utd inntil 4 år      *   \n",
       "4987                  *    Delvis ledig                     VGS      *   \n",
       "4988                  *           ledig                     VGS      *   \n",
       "4989                  *           ledig    Høyere utd over 4 år      *   \n",
       "4990                  *           ledig    Høyere utd over 4 år      *   \n",
       "4991                  *           ledig                     VGS      *   \n",
       "4992                  *           ledig    Høyere utd over 4 år      *   \n",
       "4993                  *    Delvis ledig  Høyere utd inntil 4 år      *   \n",
       "4994                  *           ledig                  Ukjent      *   \n",
       "4995                  *    Delvis ledig                     VGS      *   \n",
       "4996                  *           ledig  Høyere utd inntil 4 år      *   \n",
       "4997                  *           ledig                     VGS      *   \n",
       "4998                  *           ledig                     VGS      *   \n",
       "4999                  *           ledig                     VGS      *   \n",
       "\n",
       "     Medisinsk forhold  \n",
       "0                Ingen  \n",
       "1                Ingen  \n",
       "2                Ingen  \n",
       "3                Ingen  \n",
       "4                Ingen  \n",
       "5                Ingen  \n",
       "6                Ingen  \n",
       "7                Ingen  \n",
       "8                Ingen  \n",
       "9                Ingen  \n",
       "10               Ingen  \n",
       "11               Ingen  \n",
       "12               Ingen  \n",
       "13             Artrose  \n",
       "14       Hjerteflimmer  \n",
       "15               Ingen  \n",
       "16               Ingen  \n",
       "17       Hjerteflimmer  \n",
       "18               Ingen  \n",
       "19               Ingen  \n",
       "20               Ingen  \n",
       "21               Ingen  \n",
       "22               Ingen  \n",
       "23             Artrose  \n",
       "24               Ingen  \n",
       "25       Hjerteflimmer  \n",
       "26            Diabetes  \n",
       "27               Ingen  \n",
       "28               Ingen  \n",
       "29               Ingen  \n",
       "...                ...  \n",
       "4970             Ingen  \n",
       "4971             Ingen  \n",
       "4972             Ingen  \n",
       "4973             Ingen  \n",
       "4974     Hjerteflimmer  \n",
       "4975           Artrose  \n",
       "4976           Artrose  \n",
       "4977             Ingen  \n",
       "4978             Ingen  \n",
       "4979          Diabetes  \n",
       "4980           Artrose  \n",
       "4981             Ingen  \n",
       "4982             Ingen  \n",
       "4983             Ingen  \n",
       "4984           Artrose  \n",
       "4985             Ingen  \n",
       "4986             Ingen  \n",
       "4987             Ingen  \n",
       "4988             Ingen  \n",
       "4989     Hjerteflimmer  \n",
       "4990             Ingen  \n",
       "4991             Ingen  \n",
       "4992             Ingen  \n",
       "4993          Diabetes  \n",
       "4994             Ingen  \n",
       "4995          Diabetes  \n",
       "4996             Ingen  \n",
       "4997             Ingen  \n",
       "4998             Ingen  \n",
       "4999             Ingen  \n",
       "\n",
       "[5000 rows x 12 columns]"
      ]
     },
     "execution_count": 341,
     "metadata": {},
     "output_type": "execute_result"
    }
   ],
   "source": [
    "anon_result.dataset.to_dataframe()"
   ]
  },
  {
   "cell_type": "markdown",
   "metadata": {},
   "source": [
    "###  Risk Profile for the anonymized dataset"
   ]
  },
  {
   "cell_type": "code",
   "execution_count": 327,
   "metadata": {},
   "outputs": [],
   "source": [
    "anon_rp = anon_result.risk_profile"
   ]
  },
  {
   "cell_type": "code",
   "execution_count": 328,
   "metadata": {},
   "outputs": [
    {
     "data": {
      "image/png": "[encoded data removed]",
      "text/plain": [
       "<Figure size 432x288 with 1 Axes>"
      ]
     },
     "metadata": {
      "needs_background": "light"
     },
     "output_type": "display_data"
    }
   ],
   "source": [
    "anon_re_risk = anon_rp.re_identification_risk_dataframe()\n",
    "anon_re_risk[['estimated_prosecutor_risk', 'highest_prosecutor_risk', 'lowest_risk']].plot(kind=\"bar\", title=\"After Anonymization Re-Identification risks\");"
   ]
  },
  {
   "cell_type": "code",
   "execution_count": 329,
   "metadata": {},
   "outputs": [
    {
     "data": {
      "image/png": "[encoded data removed]",
      "text/plain": [
       "<Figure size 432x288 with 1 Axes>"
      ]
     },
     "metadata": {
      "needs_background": "light"
     },
     "output_type": "display_data"
    }
   ],
   "source": [
    "anon_dist_risk = anon_dist_risk\n",
    "anon_dist_risk.plot(kind=\"bar\", x=\"interval\", y=\"recordsWithRiskWithinInteval\", title=\"After Anonymization Distribution of Risk\");"
   ]
  },
  {
   "cell_type": "markdown",
   "metadata": {},
   "source": [
    "### Risk Distribution - Before and After"
   ]
  },
  {
   "cell_type": "code",
   "execution_count": 333,
   "metadata": {},
   "outputs": [
    {
     "data": {
      "image/png": "[encoded data removed]",
      "text/plain": [
       "<Figure size 432x288 with 1 Axes>"
      ]
     },
     "metadata": {
      "needs_background": "light"
     },
     "output_type": "display_data"
    },
    {
     "data": {
      "image/png": "[encoded data removed]",
      "text/plain": [
       "<Figure size 432x288 with 1 Axes>"
      ]
     },
     "metadata": {
      "needs_background": "light"
     },
     "output_type": "display_data"
    }
   ],
   "source": [
    "dataset_dis_risk.plot(kind=\"bar\", x=\"interval\",y=\"recordsWithRiskWithinInteval\", title=\"Original Dataset Distribution of Risk\");\n",
    "anon_dist_risk.plot(kind=\"bar\", x=\"interval\", y=\"recordsWithRiskWithinInteval\", title=\"After Anonymization Distribution of Risk\");"
   ]
  },
  {
   "cell_type": "markdown",
   "metadata": {},
   "source": [
    "### Anonymization Metrics"
   ]
  },
  {
   "cell_type": "code",
   "execution_count": 331,
   "metadata": {},
   "outputs": [],
   "source": [
    "metrics = anon_result.anonymization_metrics"
   ]
  },
  {
   "cell_type": "markdown",
   "metadata": {},
   "source": [
    "### Information about the levels the hierarchies used"
   ]
  },
  {
   "cell_type": "code",
   "execution_count": 332,
   "metadata": {},
   "outputs": [
    {
     "data": {
      "text/plain": [
       "[{'name': 'Alder',\n",
       "  'type': 'QUASI_IDENTIFYING_ATTRIBUTE',\n",
       "  'generalizationLevel': 3},\n",
       " {'name': 'Sivilstatus',\n",
       "  'type': 'QUASI_IDENTIFYING_ATTRIBUTE',\n",
       "  'generalizationLevel': 0},\n",
       " {'name': 'Barn',\n",
       "  'type': 'QUASI_IDENTIFYING_ATTRIBUTE',\n",
       "  'generalizationLevel': 3},\n",
       " {'name': 'Innsatsgruppe',\n",
       "  'type': 'QUASI_IDENTIFYING_ATTRIBUTE',\n",
       "  'generalizationLevel': 1},\n",
       " {'name': 'Innvandrerbakgrunn',\n",
       "  'type': 'QUASI_IDENTIFYING_ATTRIBUTE',\n",
       "  'generalizationLevel': 2},\n",
       " {'name': 'Ledighetsstatus',\n",
       "  'type': 'QUASI_IDENTIFYING_ATTRIBUTE',\n",
       "  'generalizationLevel': 1},\n",
       " {'name': 'Utdanning',\n",
       "  'type': 'QUASI_IDENTIFYING_ATTRIBUTE',\n",
       "  'generalizationLevel': 0},\n",
       " {'name': 'Ytelse',\n",
       "  'type': 'QUASI_IDENTIFYING_ATTRIBUTE',\n",
       "  'generalizationLevel': 2}]"
      ]
     },
     "execution_count": 332,
     "metadata": {},
     "output_type": "execute_result"
    }
   ],
   "source": [
    "metrics.attribute_generalization"
   ]
  },
  {
   "cell_type": "markdown",
   "metadata": {},
   "source": [
    "### Information about Privacy Models configuration"
   ]
  },
  {
   "cell_type": "code",
   "execution_count": 293,
   "metadata": {},
   "outputs": [
    {
     "data": {
      "text/plain": [
       "[{'monotonicWithGeneralization': True,\n",
       "  'k': 2,\n",
       "  'minimalClassSizeAvailable': True,\n",
       "  'minimalClassSize': 2,\n",
       "  'localRecodingSupported': True,\n",
       "  'riskThresholdJournalist': 0.5,\n",
       "  'riskThresholdMarketer': 0.5,\n",
       "  'riskThresholdProsecutor': 0.5,\n",
       "  'requirements': 1,\n",
       "  'sampleBased': False,\n",
       "  'subset': None,\n",
       "  'populationModel': None,\n",
       "  'subsetAvailable': False,\n",
       "  'dataSubset': None,\n",
       "  'monotonicWithSuppression': True},\n",
       " {'monotonicWithGeneralization': True,\n",
       "  'attribute': 'Medisinsk forhold',\n",
       "  'l': 2.0,\n",
       "  'localRecodingSupported': True,\n",
       "  'minimalClassSizeAvailable': True,\n",
       "  'minimalClassSize': 2,\n",
       "  'riskThresholdJournalist': 0.5,\n",
       "  'riskThresholdMarketer': 0.5,\n",
       "  'riskThresholdProsecutor': 0.5,\n",
       "  'requirements': 4,\n",
       "  'sampleBased': False,\n",
       "  'subset': None,\n",
       "  'populationModel': None,\n",
       "  'subsetAvailable': False,\n",
       "  'dataSubset': None,\n",
       "  'monotonicWithSuppression': True}]"
      ]
     },
     "execution_count": 293,
     "metadata": {},
     "output_type": "execute_result"
    }
   ],
   "source": [
    "metrics.privacy_models"
   ]
  },
  {
   "cell_type": "code",
   "execution_count": null,
   "metadata": {},
   "outputs": [],
   "source": []
  }
 ],
 "metadata": {
  "kernelspec": {
   "display_name": "Python 3",
   "language": "python",
   "name": "python3"
  },
  "language_info": {
   "codemirror_mode": {
    "name": "ipython",
    "version": 3
   },
   "file_extension": ".py",
   "mimetype": "text/x-python",
   "name": "python",
   "nbconvert_exporter": "python",
   "pygments_lexer": "ipython3",
   "version": "3.7.3"
  }
 },
 "nbformat": 4,
 "nbformat_minor": 2
}

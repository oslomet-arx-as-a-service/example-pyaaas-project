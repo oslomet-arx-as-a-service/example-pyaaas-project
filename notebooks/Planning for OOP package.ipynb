{
 "cells": [
  {
   "cell_type": "code",
   "execution_count": 1,
   "metadata": {},
   "outputs": [],
   "source": [
    "# import stuff"
   ]
  },
  {
   "cell_type": "markdown",
   "metadata": {},
   "source": [
    "## Build the dataset - OOP style"
   ]
  },
  {
   "cell_type": "code",
   "execution_count": 3,
   "metadata": {},
   "outputs": [],
   "source": [
    "\n",
    "# any fields not set should default to insensitive. Warning will be logged in case a field is defaulted\n",
    "dataset = Dataset.builder.from_pandas(df)\n",
    "                        .insesitiveAttribute((\"name\", \"favorite_tv_show\"))\n",
    "                        .sensitiveAttribute((\"medical\", \"blood_type\"))\n",
    "                        .quasiidentifyingAttribute(\"id\")\n",
    "                        .build()\n",
    "    "
   ]
  },
  {
   "cell_type": "markdown",
   "metadata": {},
   "source": [
    "## Build the dataset - light OOP"
   ]
  },
  {
   "cell_type": "code",
   "execution_count": null,
   "metadata": {},
   "outputs": [],
   "source": [
    "# all fields default to insensitive AttributeType\n",
    "dataset = Dataset.from_pandas(df)\n",
    "dataset2 = Dataset.from_csv(path)\n",
    "dataset3 = Dataset.from_url(url)\n",
    "\n",
    "# optionally set AttributeTypes\n",
    "dataset = Dataset.from_pandas(df, attribute_type={\"id\": AttributeType.IDENTIFYING})\n"
   ]
  },
  {
   "cell_type": "markdown",
   "metadata": {},
   "source": [
    "## Setting Attribute Types"
   ]
  },
  {
   "cell_type": "code",
   "execution_count": null,
   "metadata": {},
   "outputs": [],
   "source": [
    "dataset.set_attribute([\"id\", \"name\", \"age\"], AttributeType.QUASIIDENTIFING)"
   ]
  },
  {
   "cell_type": "markdown",
   "metadata": {},
   "source": [
    "## Applying Hierarchies"
   ]
  },
  {
   "cell_type": "code",
   "execution_count": null,
   "metadata": {},
   "outputs": [],
   "source": [
    "# Single value\n",
    "dataset.set_hierarchy(\"id\", hierarchy)\n",
    "\n",
    "# Multiple\n",
    "dataset.set_hierarcies({\"id\", hierarchy_id, \"name\": hierarchy_name})\n",
    "\n"
   ]
  },
  {
   "cell_type": "markdown",
   "metadata": {},
   "source": [
    "## Create service wrapper"
   ]
  },
  {
   "cell_type": "code",
   "execution_count": 5,
   "metadata": {},
   "outputs": [],
   "source": [
    "aaas = AaaS(\"https://localhost:8080\")"
   ]
  },
  {
   "cell_type": "markdown",
   "metadata": {},
   "source": [
    "## Analyze"
   ]
  },
  {
   "cell_type": "code",
   "execution_count": 6,
   "metadata": {},
   "outputs": [],
   "source": [
    "risk_profile = aaas.risk_profile(dataset=dataset)"
   ]
  },
  {
   "cell_type": "code",
   "execution_count": null,
   "metadata": {},
   "outputs": [],
   "source": []
  },
  {
   "cell_type": "code",
   "execution_count": null,
   "metadata": {},
   "outputs": [],
   "source": []
  },
  {
   "cell_type": "markdown",
   "metadata": {},
   "source": [
    "## Anonymize"
   ]
  },
  {
   "cell_type": "code",
   "execution_count": null,
   "metadata": {},
   "outputs": [],
   "source": [
    "result = aaas.anonymize(dataset, privacy_models=[])"
   ]
  }
 ],
 "metadata": {
  "kernelspec": {
   "display_name": "Python (example-project)",
   "language": "python",
   "name": "venv"
  },
  "language_info": {
   "codemirror_mode": {
    "name": "ipython",
    "version": 3
   },
   "file_extension": ".py",
   "mimetype": "text/x-python",
   "name": "python",
   "nbconvert_exporter": "python",
   "pygments_lexer": "ipython3",
   "version": "3.7.2"
  }
 },
 "nbformat": 4,
 "nbformat_minor": 2
}

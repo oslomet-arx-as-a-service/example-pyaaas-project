{
 "cells": [
  {
   "cell_type": "markdown",
   "metadata": {},
   "source": [
    "# German Credit Rating"
   ]
  },
  {
   "cell_type": "markdown",
   "metadata": {},
   "source": [
    "### Re-Indentification risk analysis and De-Indentification"
   ]
  },
  {
   "cell_type": "code",
   "execution_count": 1,
   "metadata": {},
   "outputs": [],
   "source": [
    "import pandas as pd\n",
    "from pyaaas import ARXaaS, Dataset, AttributeType"
   ]
  },
  {
   "cell_type": "code",
   "execution_count": 2,
   "metadata": {},
   "outputs": [],
   "source": [
    "df = pd.read_csv(\"data/german_credit_data.csv\")"
   ]
  },
  {
   "cell_type": "code",
   "execution_count": 3,
   "metadata": {},
   "outputs": [
    {
     "data": {
      "text/html": [
       "<div>\n",
       "<style scoped>\n",
       "    .dataframe tbody tr th:only-of-type {\n",
       "        vertical-align: middle;\n",
       "    }\n",
       "\n",
       "    .dataframe tbody tr th {\n",
       "        vertical-align: top;\n",
       "    }\n",
       "\n",
       "    .dataframe thead th {\n",
       "        text-align: right;\n",
       "    }\n",
       "</style>\n",
       "<table border=\"1\" class=\"dataframe\">\n",
       "  <thead>\n",
       "    <tr style=\"text-align: right;\">\n",
       "      <th></th>\n",
       "      <th>Unnamed: 0</th>\n",
       "      <th>Age</th>\n",
       "      <th>Sex</th>\n",
       "      <th>Job</th>\n",
       "      <th>Housing</th>\n",
       "      <th>Saving accounts</th>\n",
       "      <th>Checking account</th>\n",
       "      <th>Credit amount</th>\n",
       "      <th>Duration</th>\n",
       "      <th>Purpose</th>\n",
       "      <th>Risk</th>\n",
       "    </tr>\n",
       "  </thead>\n",
       "  <tbody>\n",
       "    <tr>\n",
       "      <th>1</th>\n",
       "      <td>1</td>\n",
       "      <td>22</td>\n",
       "      <td>female</td>\n",
       "      <td>2</td>\n",
       "      <td>own</td>\n",
       "      <td>little</td>\n",
       "      <td>moderate</td>\n",
       "      <td>5951</td>\n",
       "      <td>48</td>\n",
       "      <td>radio/TV</td>\n",
       "      <td>bad</td>\n",
       "    </tr>\n",
       "    <tr>\n",
       "      <th>3</th>\n",
       "      <td>3</td>\n",
       "      <td>45</td>\n",
       "      <td>male</td>\n",
       "      <td>2</td>\n",
       "      <td>free</td>\n",
       "      <td>little</td>\n",
       "      <td>little</td>\n",
       "      <td>7882</td>\n",
       "      <td>42</td>\n",
       "      <td>furniture/equipment</td>\n",
       "      <td>good</td>\n",
       "    </tr>\n",
       "    <tr>\n",
       "      <th>4</th>\n",
       "      <td>4</td>\n",
       "      <td>53</td>\n",
       "      <td>male</td>\n",
       "      <td>2</td>\n",
       "      <td>free</td>\n",
       "      <td>little</td>\n",
       "      <td>little</td>\n",
       "      <td>4870</td>\n",
       "      <td>24</td>\n",
       "      <td>car</td>\n",
       "      <td>bad</td>\n",
       "    </tr>\n",
       "    <tr>\n",
       "      <th>7</th>\n",
       "      <td>7</td>\n",
       "      <td>35</td>\n",
       "      <td>male</td>\n",
       "      <td>3</td>\n",
       "      <td>rent</td>\n",
       "      <td>little</td>\n",
       "      <td>moderate</td>\n",
       "      <td>6948</td>\n",
       "      <td>36</td>\n",
       "      <td>car</td>\n",
       "      <td>good</td>\n",
       "    </tr>\n",
       "    <tr>\n",
       "      <th>9</th>\n",
       "      <td>9</td>\n",
       "      <td>28</td>\n",
       "      <td>male</td>\n",
       "      <td>3</td>\n",
       "      <td>own</td>\n",
       "      <td>little</td>\n",
       "      <td>moderate</td>\n",
       "      <td>5234</td>\n",
       "      <td>30</td>\n",
       "      <td>car</td>\n",
       "      <td>bad</td>\n",
       "    </tr>\n",
       "  </tbody>\n",
       "</table>\n",
       "</div>"
      ],
      "text/plain": [
       "   Unnamed: 0  Age     Sex  Job Housing Saving accounts Checking account  \\\n",
       "1           1   22  female    2     own          little         moderate   \n",
       "3           3   45    male    2    free          little           little   \n",
       "4           4   53    male    2    free          little           little   \n",
       "7           7   35    male    3    rent          little         moderate   \n",
       "9           9   28    male    3     own          little         moderate   \n",
       "\n",
       "   Credit amount  Duration              Purpose  Risk  \n",
       "1           5951        48             radio/TV   bad  \n",
       "3           7882        42  furniture/equipment  good  \n",
       "4           4870        24                  car   bad  \n",
       "7           6948        36                  car  good  \n",
       "9           5234        30                  car   bad  "
      ]
     },
     "execution_count": 3,
     "metadata": {},
     "output_type": "execute_result"
    }
   ],
   "source": [
    "df.dropna(inplace=True)\n",
    "df.head()"
   ]
  },
  {
   "cell_type": "markdown",
   "metadata": {},
   "source": [
    "### Create Dataset and set attribute types"
   ]
  },
  {
   "cell_type": "code",
   "execution_count": 4,
   "metadata": {},
   "outputs": [],
   "source": [
    "dataset = Dataset.from_pandas(df)"
   ]
  },
  {
   "cell_type": "code",
   "execution_count": 5,
   "metadata": {},
   "outputs": [
    {
     "name": "stdout",
     "output_type": "stream",
     "text": [
      "data:\n",
      "  headers:\n",
      "    ['Unnamed: 0', 'Age', 'Sex', 'Job', 'Housing', 'Saving accounts', 'Checking account', 'Credit amount', 'Duration', 'Purpose', 'Risk']\n",
      "rows:\n",
      "    [1, 22, 'female', 2, '...', 5951, 48, 'radio/TV', 'bad']\n",
      "    [3, 45, 'male', 2, '...', 7882, 42, 'furniture/equipment', 'good']\n",
      "    [4, 53, 'male', 2, '...', 4870, 24, 'car', 'bad']\n",
      "    [7, 35, 'male', 3, '...', 6948, 36, 'car', 'good']\n",
      "    [9, 28, 'male', 3, '...', 5234, 30, 'car', 'bad']\n",
      "    ...\n",
      "attributes:\n",
      "  field_name=Unnamed: 0, type=QUASIIDENTIFYING, hierarchy=None\n",
      "  field_name=Age, type=QUASIIDENTIFYING, hierarchy=None\n",
      "  field_name=Sex, type=QUASIIDENTIFYING, hierarchy=None\n",
      "  field_name=Job, type=QUASIIDENTIFYING, hierarchy=None\n",
      "  field_name=Housing, type=QUASIIDENTIFYING, hierarchy=None\n",
      "  field_name=Saving accounts, type=QUASIIDENTIFYING, hierarchy=None\n",
      "  field_name=Checking account, type=QUASIIDENTIFYING, hierarchy=None\n",
      "  field_name=Credit amount, type=QUASIIDENTIFYING, hierarchy=None\n",
      "  field_name=Duration, type=QUASIIDENTIFYING, hierarchy=None\n",
      "  field_name=Purpose, type=QUASIIDENTIFYING, hierarchy=None\n",
      "  field_name=Risk, type=QUASIIDENTIFYING, hierarchy=None\n",
      "\n"
     ]
    }
   ],
   "source": [
    "dataset.describe()"
   ]
  },
  {
   "cell_type": "code",
   "execution_count": 6,
   "metadata": {},
   "outputs": [],
   "source": [
    "dataset.set_attribute_type(AttributeType.INSENSITIVE, 'Unnamed: 0')\n",
    "dataset.set_attribute_type(AttributeType.IDENTIFYING, 'Housing', 'Checking account', 'Duration', 'Purpose', 'Risk')"
   ]
  },
  {
   "cell_type": "markdown",
   "metadata": {},
   "source": [
    "### Create RiskProfile"
   ]
  },
  {
   "cell_type": "code",
   "execution_count": 7,
   "metadata": {},
   "outputs": [],
   "source": [
    "arxaas = ARXaaS(\"http://localhost:8080\")"
   ]
  },
  {
   "cell_type": "code",
   "execution_count": 8,
   "metadata": {},
   "outputs": [],
   "source": [
    "risk_profile = arxaas.risk_profile(dataset)"
   ]
  },
  {
   "cell_type": "code",
   "execution_count": 9,
   "metadata": {},
   "outputs": [
    {
     "data": {
      "text/plain": [
       "{'estimated_journalist_risk': 1.0,\n",
       " 'records_affected_by_highest_prosecutor_risk': 1.0,\n",
       " 'sample_uniques': 1.0,\n",
       " 'lowest_risk': 1.0,\n",
       " 'estimated_prosecutor_risk': 1.0,\n",
       " 'highest_journalist_risk': 1.0,\n",
       " 'records_affected_by_lowest_risk': 1.0,\n",
       " 'average_prosecutor_risk': 1.0,\n",
       " 'estimated_marketer_risk': 1.0,\n",
       " 'highest_prosecutor_risk': 1.0,\n",
       " 'records_affected_by_highest_journalist_risk': 1.0,\n",
       " 'population_uniques': 1.0}"
      ]
     },
     "execution_count": 9,
     "metadata": {},
     "output_type": "execute_result"
    }
   ],
   "source": [
    "risk_profile.re_identification_risk"
   ]
  },
  {
   "cell_type": "markdown",
   "metadata": {},
   "source": [
    "Estimated prosecutor risk is 1.0. The dataset re-Identification risk is high."
   ]
  },
  {
   "cell_type": "markdown",
   "metadata": {},
   "source": [
    "### Anonymize"
   ]
  },
  {
   "cell_type": "markdown",
   "metadata": {},
   "source": [
    "#### Create hierarchies\n",
    "Before we can attempt to anonymize the dataset we need to create generalization hierarchies for the quasiidentifying attributes."
   ]
  },
  {
   "cell_type": "code",
   "execution_count": 10,
   "metadata": {},
   "outputs": [],
   "source": [
    "from pyaaas.hierarchy import OrderHierarchyBuilder"
   ]
  },
  {
   "cell_type": "markdown",
   "metadata": {},
   "source": [
    "##### Sex"
   ]
  },
  {
   "cell_type": "code",
   "execution_count": 11,
   "metadata": {},
   "outputs": [],
   "source": [
    "ob = OrderHierarchyBuilder()"
   ]
  },
  {
   "cell_type": "code",
   "execution_count": 12,
   "metadata": {},
   "outputs": [],
   "source": [
    "sexes = df[\"Sex\"].unique().tolist()"
   ]
  },
  {
   "cell_type": "code",
   "execution_count": 13,
   "metadata": {},
   "outputs": [],
   "source": [
    "sex_hierarchy = arxaas.hierarchy(ob, sexes)"
   ]
  },
  {
   "cell_type": "code",
   "execution_count": 14,
   "metadata": {},
   "outputs": [
    {
     "data": {
      "text/plain": [
       "[['female', '*'], ['male', '*']]"
      ]
     },
     "execution_count": 14,
     "metadata": {},
     "output_type": "execute_result"
    }
   ],
   "source": [
    "sex_hierarchy"
   ]
  },
  {
   "cell_type": "markdown",
   "metadata": {},
   "source": [
    "#### Age"
   ]
  },
  {
   "cell_type": "code",
   "execution_count": 15,
   "metadata": {},
   "outputs": [],
   "source": [
    "from pyaaas.hierarchy import IntervalHierarchyBuilder"
   ]
  },
  {
   "cell_type": "code",
   "execution_count": 16,
   "metadata": {},
   "outputs": [],
   "source": [
    "ages = df[\"Age\"].tolist()"
   ]
  },
  {
   "cell_type": "code",
   "execution_count": 17,
   "metadata": {},
   "outputs": [],
   "source": [
    "iterval_builder = IntervalHierarchyBuilder()"
   ]
  },
  {
   "cell_type": "code",
   "execution_count": 18,
   "metadata": {},
   "outputs": [],
   "source": [
    "iterval_builder.add_interval(0, 18, \"child\")\n",
    "iterval_builder.add_interval(18, 30, \"young-adult\")\n",
    "iterval_builder.add_interval(30, 60, \"adult\")\n",
    "iterval_builder.add_interval(60, 120, \"old\")"
   ]
  },
  {
   "cell_type": "code",
   "execution_count": 19,
   "metadata": {},
   "outputs": [
    {
     "data": {
      "text/plain": [
       "Level(level=0, groups={Group(grouping=2, label=young): None, Group(grouping=2, label=old): None})"
      ]
     },
     "execution_count": 19,
     "metadata": {},
     "output_type": "execute_result"
    }
   ],
   "source": [
    "iterval_builder.level(0).add_group(2, \"young\")\n",
    "iterval_builder.level(0).add_group(2, \"old\")"
   ]
  },
  {
   "cell_type": "code",
   "execution_count": 20,
   "metadata": {},
   "outputs": [],
   "source": [
    "age_hierarchy = arxaas.hierarchy(iterval_builder, ages)"
   ]
  },
  {
   "cell_type": "code",
   "execution_count": 21,
   "metadata": {},
   "outputs": [
    {
     "data": {
      "text/plain": [
       "[['22', 'young-adult', 'young', '*'],\n",
       " ['45', 'adult', 'old', '*'],\n",
       " ['53', 'adult', 'old', '*'],\n",
       " ['35', 'adult', 'old', '*'],\n",
       " ['28', 'young-adult', 'young', '*'],\n",
       " ['25', 'young-adult', 'young', '*'],\n",
       " ['24', 'young-adult', 'young', '*'],\n",
       " ['22', 'young-adult', 'young', '*'],\n",
       " ['60', 'old', 'old', '*'],\n",
       " ['28', 'young-adult', 'young', '*']]"
      ]
     },
     "execution_count": 21,
     "metadata": {},
     "output_type": "execute_result"
    }
   ],
   "source": [
    "age_hierarchy[:10]"
   ]
  },
  {
   "cell_type": "markdown",
   "metadata": {},
   "source": [
    "#### Credit amount"
   ]
  },
  {
   "cell_type": "code",
   "execution_count": 22,
   "metadata": {},
   "outputs": [],
   "source": [
    "credit_amounts = df[\"Credit amount\"].tolist()"
   ]
  },
  {
   "cell_type": "code",
   "execution_count": 23,
   "metadata": {},
   "outputs": [
    {
     "data": {
      "text/plain": [
       "count      522.000000\n",
       "mean      3278.745211\n",
       "std       2929.155177\n",
       "min        276.000000\n",
       "25%       1297.500000\n",
       "50%       2326.500000\n",
       "75%       3971.250000\n",
       "max      18424.000000\n",
       "Name: Credit amount, dtype: float64"
      ]
     },
     "execution_count": 23,
     "metadata": {},
     "output_type": "execute_result"
    }
   ],
   "source": [
    "df[\"Credit amount\"].describe()"
   ]
  },
  {
   "cell_type": "code",
   "execution_count": 24,
   "metadata": {},
   "outputs": [],
   "source": [
    "credit_interval = IntervalHierarchyBuilder()"
   ]
  },
  {
   "cell_type": "code",
   "execution_count": 25,
   "metadata": {},
   "outputs": [
    {
     "data": {
      "text/plain": [
       "Level(level=0, groups={Group(grouping=2, label=low-medium): None, Group(grouping=2, label=medium-high): None})"
      ]
     },
     "execution_count": 25,
     "metadata": {},
     "output_type": "execute_result"
    }
   ],
   "source": [
    "credit_interval.add_interval(0, 1300, \"low\")\n",
    "credit_interval.add_interval(1300, 2400, \"medium\")\n",
    "credit_interval.add_interval(2400, 20000, \"high\")\n",
    "\n",
    "credit_interval.level(0)\\\n",
    "    .add_group(2, \"low-medium\")\\\n",
    "    .add_group(2, \"medium-high\")\n"
   ]
  },
  {
   "cell_type": "code",
   "execution_count": 26,
   "metadata": {},
   "outputs": [],
   "source": [
    "credit_hierarchy = arxaas.hierarchy(credit_interval, credit_amounts)"
   ]
  },
  {
   "cell_type": "code",
   "execution_count": 27,
   "metadata": {},
   "outputs": [
    {
     "data": {
      "text/plain": [
       "[['5951', 'high', 'medium-high', '*'],\n",
       " ['7882', 'high', 'medium-high', '*'],\n",
       " ['4870', 'high', 'medium-high', '*'],\n",
       " ['6948', 'high', 'medium-high', '*'],\n",
       " ['5234', 'high', 'medium-high', '*'],\n",
       " ['1295', 'low', 'low-medium', '*'],\n",
       " ['4308', 'high', 'medium-high', '*'],\n",
       " ['1567', 'medium', 'low-medium', '*'],\n",
       " ['1199', 'low', 'low-medium', '*'],\n",
       " ['1403', 'medium', 'low-medium', '*']]"
      ]
     },
     "execution_count": 27,
     "metadata": {},
     "output_type": "execute_result"
    }
   ],
   "source": [
    "credit_hierarchy[:10]"
   ]
  },
  {
   "cell_type": "markdown",
   "metadata": {},
   "source": [
    "#### Job"
   ]
  },
  {
   "cell_type": "code",
   "execution_count": 28,
   "metadata": {},
   "outputs": [],
   "source": [
    "jobs = df[\"Job\"].tolist()"
   ]
  },
  {
   "cell_type": "code",
   "execution_count": 29,
   "metadata": {},
   "outputs": [
    {
     "data": {
      "text/plain": [
       "count    522.000000\n",
       "mean       1.875479\n",
       "std        0.682811\n",
       "min        0.000000\n",
       "25%        2.000000\n",
       "50%        2.000000\n",
       "75%        2.000000\n",
       "max        3.000000\n",
       "Name: Job, dtype: float64"
      ]
     },
     "execution_count": 29,
     "metadata": {},
     "output_type": "execute_result"
    }
   ],
   "source": [
    "df[\"Job\"].describe()"
   ]
  },
  {
   "cell_type": "code",
   "execution_count": 30,
   "metadata": {},
   "outputs": [],
   "source": [
    "job_interval = IntervalHierarchyBuilder()"
   ]
  },
  {
   "cell_type": "code",
   "execution_count": 31,
   "metadata": {},
   "outputs": [],
   "source": [
    "job_interval.add_interval(0,1,\"un-employed\")\n",
    "job_interval.add_interval(1,4,\"employed\")"
   ]
  },
  {
   "cell_type": "code",
   "execution_count": 32,
   "metadata": {},
   "outputs": [],
   "source": [
    "job_hierarchy = arxaas.hierarchy(job_interval, jobs)"
   ]
  },
  {
   "cell_type": "code",
   "execution_count": 33,
   "metadata": {},
   "outputs": [
    {
     "data": {
      "text/plain": [
       "[['2', 'employed', '*'],\n",
       " ['2', 'employed', '*'],\n",
       " ['2', 'employed', '*'],\n",
       " ['3', 'employed', '*'],\n",
       " ['3', 'employed', '*'],\n",
       " ['2', 'employed', '*'],\n",
       " ['2', 'employed', '*'],\n",
       " ['2', 'employed', '*'],\n",
       " ['1', 'employed', '*'],\n",
       " ['2', 'employed', '*']]"
      ]
     },
     "execution_count": 33,
     "metadata": {},
     "output_type": "execute_result"
    }
   ],
   "source": [
    "job_hierarchy[:10]"
   ]
  },
  {
   "cell_type": "markdown",
   "metadata": {},
   "source": [
    "#### Set hierarchies"
   ]
  },
  {
   "cell_type": "code",
   "execution_count": 34,
   "metadata": {},
   "outputs": [],
   "source": [
    "dataset.set_hierarchy(\"Sex\", sex_hierarchy)\n",
    "dataset.set_hierarchy(\"Age\", age_hierarchy)\n",
    "dataset.set_hierarchy(\"Credit amount\", credit_hierarchy)\n",
    "dataset.set_hierarchy(\"Job\", job_hierarchy)"
   ]
  },
  {
   "cell_type": "code",
   "execution_count": 35,
   "metadata": {},
   "outputs": [],
   "source": [
    "from pyaaas.privacy_models import KAnonymity"
   ]
  },
  {
   "cell_type": "code",
   "execution_count": 36,
   "metadata": {},
   "outputs": [],
   "source": [
    "kanon = KAnonymity(2)"
   ]
  },
  {
   "cell_type": "markdown",
   "metadata": {},
   "source": [
    "### Attempt anonymization"
   ]
  },
  {
   "cell_type": "code",
   "execution_count": 37,
   "metadata": {},
   "outputs": [],
   "source": [
    "anon_result = arxaas.anonymize(dataset, [kanon])"
   ]
  },
  {
   "cell_type": "code",
   "execution_count": 38,
   "metadata": {},
   "outputs": [
    {
     "data": {
      "text/html": [
       "<div>\n",
       "<style scoped>\n",
       "    .dataframe tbody tr th:only-of-type {\n",
       "        vertical-align: middle;\n",
       "    }\n",
       "\n",
       "    .dataframe tbody tr th {\n",
       "        vertical-align: top;\n",
       "    }\n",
       "\n",
       "    .dataframe thead th {\n",
       "        text-align: right;\n",
       "    }\n",
       "</style>\n",
       "<table border=\"1\" class=\"dataframe\">\n",
       "  <thead>\n",
       "    <tr style=\"text-align: right;\">\n",
       "      <th></th>\n",
       "      <th>Unnamed: 0</th>\n",
       "      <th>Age</th>\n",
       "      <th>Sex</th>\n",
       "      <th>Job</th>\n",
       "      <th>Housing</th>\n",
       "      <th>Saving accounts</th>\n",
       "      <th>Checking account</th>\n",
       "      <th>Credit amount</th>\n",
       "      <th>Duration</th>\n",
       "      <th>Purpose</th>\n",
       "      <th>Risk</th>\n",
       "    </tr>\n",
       "  </thead>\n",
       "  <tbody>\n",
       "    <tr>\n",
       "      <th>0</th>\n",
       "      <td>1</td>\n",
       "      <td>*</td>\n",
       "      <td>female</td>\n",
       "      <td>*</td>\n",
       "      <td>*</td>\n",
       "      <td>little</td>\n",
       "      <td>*</td>\n",
       "      <td>medium-high</td>\n",
       "      <td>*</td>\n",
       "      <td>*</td>\n",
       "      <td>*</td>\n",
       "    </tr>\n",
       "    <tr>\n",
       "      <th>1</th>\n",
       "      <td>3</td>\n",
       "      <td>*</td>\n",
       "      <td>male</td>\n",
       "      <td>*</td>\n",
       "      <td>*</td>\n",
       "      <td>little</td>\n",
       "      <td>*</td>\n",
       "      <td>medium-high</td>\n",
       "      <td>*</td>\n",
       "      <td>*</td>\n",
       "      <td>*</td>\n",
       "    </tr>\n",
       "    <tr>\n",
       "      <th>2</th>\n",
       "      <td>4</td>\n",
       "      <td>*</td>\n",
       "      <td>male</td>\n",
       "      <td>*</td>\n",
       "      <td>*</td>\n",
       "      <td>little</td>\n",
       "      <td>*</td>\n",
       "      <td>medium-high</td>\n",
       "      <td>*</td>\n",
       "      <td>*</td>\n",
       "      <td>*</td>\n",
       "    </tr>\n",
       "    <tr>\n",
       "      <th>3</th>\n",
       "      <td>7</td>\n",
       "      <td>*</td>\n",
       "      <td>male</td>\n",
       "      <td>*</td>\n",
       "      <td>*</td>\n",
       "      <td>little</td>\n",
       "      <td>*</td>\n",
       "      <td>medium-high</td>\n",
       "      <td>*</td>\n",
       "      <td>*</td>\n",
       "      <td>*</td>\n",
       "    </tr>\n",
       "    <tr>\n",
       "      <th>4</th>\n",
       "      <td>9</td>\n",
       "      <td>*</td>\n",
       "      <td>male</td>\n",
       "      <td>*</td>\n",
       "      <td>*</td>\n",
       "      <td>little</td>\n",
       "      <td>*</td>\n",
       "      <td>medium-high</td>\n",
       "      <td>*</td>\n",
       "      <td>*</td>\n",
       "      <td>*</td>\n",
       "    </tr>\n",
       "  </tbody>\n",
       "</table>\n",
       "</div>"
      ],
      "text/plain": [
       "  Unnamed: 0 Age     Sex Job Housing Saving accounts Checking account  \\\n",
       "0          1   *  female   *       *          little                *   \n",
       "1          3   *    male   *       *          little                *   \n",
       "2          4   *    male   *       *          little                *   \n",
       "3          7   *    male   *       *          little                *   \n",
       "4          9   *    male   *       *          little                *   \n",
       "\n",
       "  Credit amount Duration Purpose Risk  \n",
       "0   medium-high        *       *    *  \n",
       "1   medium-high        *       *    *  \n",
       "2   medium-high        *       *    *  \n",
       "3   medium-high        *       *    *  \n",
       "4   medium-high        *       *    *  "
      ]
     },
     "execution_count": 38,
     "metadata": {},
     "output_type": "execute_result"
    }
   ],
   "source": [
    "anon_result.dataset.to_dataframe().head()"
   ]
  },
  {
   "cell_type": "markdown",
   "metadata": {},
   "source": [
    "#### Hierarchy level applied"
   ]
  },
  {
   "cell_type": "code",
   "execution_count": 39,
   "metadata": {},
   "outputs": [],
   "source": [
    "anon_metrics = anon_result.anonymization_metrics"
   ]
  },
  {
   "cell_type": "code",
   "execution_count": 40,
   "metadata": {},
   "outputs": [
    {
     "data": {
      "text/plain": [
       "[{'name': 'Age',\n",
       "  'type': 'QUASI_IDENTIFYING_ATTRIBUTE',\n",
       "  'generalizationLevel': 3},\n",
       " {'name': 'Sex',\n",
       "  'type': 'QUASI_IDENTIFYING_ATTRIBUTE',\n",
       "  'generalizationLevel': 0},\n",
       " {'name': 'Job',\n",
       "  'type': 'QUASI_IDENTIFYING_ATTRIBUTE',\n",
       "  'generalizationLevel': 2},\n",
       " {'name': 'Saving accounts',\n",
       "  'type': 'QUASI_IDENTIFYING_ATTRIBUTE',\n",
       "  'generalizationLevel': 0},\n",
       " {'name': 'Credit amount',\n",
       "  'type': 'QUASI_IDENTIFYING_ATTRIBUTE',\n",
       "  'generalizationLevel': 2}]"
      ]
     },
     "execution_count": 40,
     "metadata": {},
     "output_type": "execute_result"
    }
   ],
   "source": [
    "anon_metrics.attribute_generalization"
   ]
  },
  {
   "cell_type": "markdown",
   "metadata": {},
   "source": [
    "### New re-identification risk"
   ]
  },
  {
   "cell_type": "code",
   "execution_count": 41,
   "metadata": {},
   "outputs": [],
   "source": [
    "anon_risk_profile = anon_result.risk_profile"
   ]
  },
  {
   "cell_type": "code",
   "execution_count": 42,
   "metadata": {},
   "outputs": [
    {
     "data": {
      "text/plain": [
       "{'estimated_journalist_risk': 0.3333333333333333,\n",
       " 'records_affected_by_highest_prosecutor_risk': 0.011494252873563218,\n",
       " 'sample_uniques': 0.0,\n",
       " 'lowest_risk': 0.0070921985815602835,\n",
       " 'estimated_prosecutor_risk': 0.3333333333333333,\n",
       " 'highest_journalist_risk': 0.3333333333333333,\n",
       " 'records_affected_by_lowest_risk': 0.5344827586206897,\n",
       " 'average_prosecutor_risk': 0.03065134099616858,\n",
       " 'estimated_marketer_risk': 0.03065134099616858,\n",
       " 'highest_prosecutor_risk': 0.3333333333333333,\n",
       " 'records_affected_by_highest_journalist_risk': 0.011494252873563218,\n",
       " 'population_uniques': 0.0}"
      ]
     },
     "execution_count": 42,
     "metadata": {},
     "output_type": "execute_result"
    }
   ],
   "source": [
    "anon_risk_profile.re_identification_risk"
   ]
  },
  {
   "cell_type": "code",
   "execution_count": 43,
   "metadata": {},
   "outputs": [],
   "source": [
    "before_risk = risk_profile.re_identification_risk_dataframe()[['estimated_prosecutor_risk', 'highest_prosecutor_risk', 'lowest_risk']].copy()\n",
    "before_risk[\"from\"] = \"before\""
   ]
  },
  {
   "cell_type": "code",
   "execution_count": 44,
   "metadata": {},
   "outputs": [],
   "source": [
    "after_risk = anon_risk_profile.re_identification_risk_dataframe()[['estimated_prosecutor_risk', 'highest_prosecutor_risk', 'lowest_risk']].copy()\n",
    "after_risk[\"from\"] = \"after\""
   ]
  },
  {
   "cell_type": "code",
   "execution_count": 45,
   "metadata": {},
   "outputs": [],
   "source": [
    "risks_df = pd.concat([before_risk, after_risk])"
   ]
  },
  {
   "cell_type": "code",
   "execution_count": 47,
   "metadata": {},
   "outputs": [
    {
     "data": {
      "image/png": "[encoded data removed]",
      "text/plain": [
       "<Figure size 720x720 with 1 Axes>"
      ]
     },
     "metadata": {
      "needs_background": "light"
     },
     "output_type": "display_data"
    }
   ],
   "source": [
    "risks_df.plot(kind=\"bar\", x=\"from\", title=\"Re-Identification risks before and after anonymization\", figsize=(10, 10));"
   ]
  },
  {
   "cell_type": "code",
   "execution_count": null,
   "metadata": {},
   "outputs": [],
   "source": []
  }
 ],
 "metadata": {
  "kernelspec": {
   "display_name": "PyARXaaS",
   "language": "python",
   "name": "venv"
  },
  "language_info": {
   "codemirror_mode": {
    "name": "ipython",
    "version": 3
   },
   "file_extension": ".py",
   "mimetype": "text/x-python",
   "name": "python",
   "nbconvert_exporter": "python",
   "pygments_lexer": "ipython3",
   "version": "3.7.3"
  }
 },
 "nbformat": 4,
 "nbformat_minor": 2
}
